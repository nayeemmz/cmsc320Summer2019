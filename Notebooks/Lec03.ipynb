{
 "cells": [
  {
   "cell_type": "code",
   "execution_count": 2,
   "metadata": {},
   "outputs": [],
   "source": [
    "import csv"
   ]
  },
  {
   "cell_type": "code",
   "execution_count": 12,
   "metadata": {},
   "outputs": [
    {
     "name": "stdout",
     "output_type": "stream",
     "text": [
      "Almazyad,Tariq\n",
      "Crenshaw,Megane\n",
      "Dolinka,Matthew\n",
      "Dressner,Michael\n",
      "Estrella,Juan\n",
      "Hao,Haitian\n",
      "Hu,Tuo\n",
      "Jabari,Saman\n",
      "Jaeger,Katrina\n",
      "Jones,Asia\n",
      "Kastaniotis,Alexander\n",
      "Li,Enhao\n",
      "Liu,Xunning\n",
      "Mansour,Nour\n",
      "McCord,Noah\n",
      "Mitchell,Lucas\n",
      "Nogales,Kevin\n",
      "Paliyam,Madhava\n",
      "Rabemananjara,Tovohaja\n",
      "Reveiz,Mateo\n",
      "Sherani,Zainab\n",
      "Snyder,William\n",
      "Sobahi,Yazeed\n",
      "Song,Daniel\n",
      "Taormina,John\n",
      "Ward,Alexandra\n",
      "Weihnacht,William\n",
      "Welsh,Jared\n",
      "Zhang,Lily\n"
     ]
    }
   ],
   "source": [
    "with open(\"Student-roster.csv\",\"r\") as f:\n",
    "    reader = csv.reader(f,delimiter=\",\",quotechar='\"')\n",
    "    header = next(reader)\n",
    "    for row in reader:\n",
    "#         print(row)\n",
    "        lastname = row[0].split(' ')[1]\n",
    "#         print(lastname)\n",
    "        lf = lastname +\",\"+row[0].split(' ')[0]\n",
    "        print(lf)\n",
    "    f.close()"
   ]
  },
  {
   "cell_type": "code",
   "execution_count": 14,
   "metadata": {},
   "outputs": [],
   "source": [
    "import json,requests"
   ]
  },
  {
   "cell_type": "code",
   "execution_count": 15,
   "metadata": {},
   "outputs": [],
   "source": [
    "r = requests.get(\"https://api.github.com\")"
   ]
  },
  {
   "cell_type": "code",
   "execution_count": 16,
   "metadata": {},
   "outputs": [
    {
     "data": {
      "text/plain": [
       "200"
      ]
     },
     "execution_count": 16,
     "metadata": {},
     "output_type": "execute_result"
    }
   ],
   "source": [
    "r.status_code"
   ]
  },
  {
   "cell_type": "code",
   "execution_count": 17,
   "metadata": {},
   "outputs": [],
   "source": [
    "data = json.loads(r.content)"
   ]
  },
  {
   "cell_type": "code",
   "execution_count": 18,
   "metadata": {},
   "outputs": [
    {
     "data": {
      "text/plain": [
       "{'authorizations_url': 'https://api.github.com/authorizations',\n",
       " 'code_search_url': 'https://api.github.com/search/code?q={query}{&page,per_page,sort,order}',\n",
       " 'commit_search_url': 'https://api.github.com/search/commits?q={query}{&page,per_page,sort,order}',\n",
       " 'current_user_authorizations_html_url': 'https://github.com/settings/connections/applications{/client_id}',\n",
       " 'current_user_repositories_url': 'https://api.github.com/user/repos{?type,page,per_page,sort}',\n",
       " 'current_user_url': 'https://api.github.com/user',\n",
       " 'emails_url': 'https://api.github.com/user/emails',\n",
       " 'emojis_url': 'https://api.github.com/emojis',\n",
       " 'events_url': 'https://api.github.com/events',\n",
       " 'feeds_url': 'https://api.github.com/feeds',\n",
       " 'followers_url': 'https://api.github.com/user/followers',\n",
       " 'following_url': 'https://api.github.com/user/following{/target}',\n",
       " 'gists_url': 'https://api.github.com/gists{/gist_id}',\n",
       " 'hub_url': 'https://api.github.com/hub',\n",
       " 'issue_search_url': 'https://api.github.com/search/issues?q={query}{&page,per_page,sort,order}',\n",
       " 'issues_url': 'https://api.github.com/issues',\n",
       " 'keys_url': 'https://api.github.com/user/keys',\n",
       " 'notifications_url': 'https://api.github.com/notifications',\n",
       " 'organization_repositories_url': 'https://api.github.com/orgs/{org}/repos{?type,page,per_page,sort}',\n",
       " 'organization_url': 'https://api.github.com/orgs/{org}',\n",
       " 'public_gists_url': 'https://api.github.com/gists/public',\n",
       " 'rate_limit_url': 'https://api.github.com/rate_limit',\n",
       " 'repository_search_url': 'https://api.github.com/search/repositories?q={query}{&page,per_page,sort,order}',\n",
       " 'repository_url': 'https://api.github.com/repos/{owner}/{repo}',\n",
       " 'starred_gists_url': 'https://api.github.com/gists/starred',\n",
       " 'starred_url': 'https://api.github.com/user/starred{/owner}{/repo}',\n",
       " 'team_url': 'https://api.github.com/teams',\n",
       " 'user_organizations_url': 'https://api.github.com/user/orgs',\n",
       " 'user_repositories_url': 'https://api.github.com/users/{user}/repos{?type,page,per_page,sort}',\n",
       " 'user_search_url': 'https://api.github.com/search/users?q={query}{&page,per_page,sort,order}',\n",
       " 'user_url': 'https://api.github.com/users/{user}'}"
      ]
     },
     "execution_count": 18,
     "metadata": {},
     "output_type": "execute_result"
    }
   ],
   "source": [
    "data"
   ]
  },
  {
   "cell_type": "code",
   "execution_count": 19,
   "metadata": {},
   "outputs": [],
   "source": [
    "from bs4 import BeautifulSoup"
   ]
  },
  {
   "cell_type": "code",
   "execution_count": 20,
   "metadata": {},
   "outputs": [],
   "source": [
    "r = requests.get(\"http://www.cs.umd.edu/class/summer2019/cmsc320/\")"
   ]
  },
  {
   "cell_type": "code",
   "execution_count": 21,
   "metadata": {},
   "outputs": [
    {
     "data": {
      "text/plain": [
       "200"
      ]
     },
     "execution_count": 21,
     "metadata": {},
     "output_type": "execute_result"
    }
   ],
   "source": [
    "r.status_code"
   ]
  },
  {
   "cell_type": "code",
   "execution_count": 23,
   "metadata": {},
   "outputs": [],
   "source": [
    "root = BeautifulSoup(r.content,\"lxml\")"
   ]
  },
  {
   "cell_type": "code",
   "execution_count": 25,
   "metadata": {},
   "outputs": [
    {
     "name": "stdout",
     "output_type": "stream",
     "text": [
      "<!DOCTYPE html>\n",
      "<html lang=\"en\">\n",
      " <head>\n",
      "  <meta charset=\"utf-8\"/>\n",
      "  <meta content=\"width=device-width, initial-scale=1, shrink-to-fit=no\" name=\"viewport\"/>\n",
      "  <meta content=\"\" name=\"description\"/>\n",
      "  <meta content=\"\" name=\"author\"/>\n",
      "  <title>\n",
      "   CMSC - 320\n",
      "  </title>\n",
      "  <!-- Bootstrap core CSS -->\n",
      "  <link href=\"vendor/bootstrap/css/bootstrap.min.css\" rel=\"stylesheet\"/>\n",
      "  <!-- Custom fonts for this template -->\n",
      "  <link href=\"https://fonts.googleapis.com/css?family=Saira+Extra+Condensed:100,200,300,400,500,600,700,800,900\" rel=\"stylesheet\"/>\n",
      "  <link href=\"https://fonts.googleapis.com/css?family=Open+Sans:300,300i,400,400i,600,600i,700,700i,800,800i\" rel=\"stylesheet\"/>\n",
      "  <link href=\"vendor/font-awesome/css/font-awesome.min.css\" rel=\"stylesheet\"/>\n",
      "  <link href=\"vendor/devicons/css/devicons.min.css\" rel=\"stylesheet\"/>\n",
      "  <link href=\"vendor/simple-line-icons/css/simple-line-icons.css\" rel=\"stylesheet\"/>\n",
      "  <!-- Custom styles for this template -->\n",
      "  <link href=\"css/resume.min.css\" rel=\"stylesheet\"/>\n",
      "  <!-- <link rel=\"stylesheet\" href=\"https://www.cs.umd.edu/sites/all/themes/cs/css/template.css\"> -->\n",
      " </head>\n",
      " <body id=\"page-top\">\n",
      "  <nav class=\"navbar navbar-expand-lg navbar-dark bg-primary fixed-top\" id=\"sideNav\">\n",
      "   <!-- <h5>CMSC 131 - Fall 2018</h5> -->\n",
      "   <span class=\"d-none d-lg-block\">\n",
      "    <!-- <img class=\"img-fluid img-profile rounded-circle mx-auto mb-2\" src=\"img/logo1.png\" alt=\"\"> -->\n",
      "   </span>\n",
      "   <a class=\"navbar-brand js-scroll-trigger\" href=\"#page-top\">\n",
      "    <span class=\"d-block d-lg-none\">\n",
      "     CMSC 320\n",
      "    </span>\n",
      "    <span class=\"d-none d-lg-block\">\n",
      "     <h6 style=\"color: #fff;\">\n",
      "      CMSC 320 - Summer 2019\n",
      "      <br/>\n",
      "      <h6 style=\"color: #fff;\">\n",
      "       Sections: 0101\n",
      "      </h6>\n",
      "      <img alt=\"\" class=\"img-fluid img-profile rounded-circle mx-auto mb-2\" src=\"img/logo1.png\"/>\n",
      "     </h6>\n",
      "    </span>\n",
      "   </a>\n",
      "   <button aria-controls=\"navbarSupportedContent\" aria-expanded=\"false\" aria-label=\"Toggle navigation\" class=\"navbar-toggler\" data-target=\"#navbarSupportedContent\" data-toggle=\"collapse\" type=\"button\">\n",
      "    <span class=\"navbar-toggler-icon\">\n",
      "    </span>\n",
      "   </button>\n",
      "   <div class=\"collapse navbar-collapse\" id=\"navbarSupportedContent\">\n",
      "    <ul class=\"navbar-nav\">\n",
      "     <li class=\"nav-item\">\n",
      "      <a class=\"nav-link js-scroll-trigger\" href=\"#description\">\n",
      "       Description\n",
      "      </a>\n",
      "     </li>\n",
      "     <li class=\"nav-item\">\n",
      "      <a class=\"nav-link js-scroll-trigger\" href=\"#announcements\">\n",
      "       Announcements\n",
      "      </a>\n",
      "     </li>\n",
      "     <li class=\"nav-item\">\n",
      "      <a class=\"nav-link js-scroll-trigger\" href=\"#schedule\">\n",
      "       Schedule\n",
      "      </a>\n",
      "     </li>\n",
      "     <li class=\"nav-item\">\n",
      "      <a class=\"nav-link js-scroll-trigger\" href=\"#staff\">\n",
      "       Staff and Office hours\n",
      "      </a>\n",
      "     </li>\n",
      "     <!-- li class=\"nav-item\">\n",
      "            <a class=\"nav-link js-scroll-trigger\" href=\"#officehours\">Office Hours</a>\n",
      "          </li> -->\n",
      "     <li class=\"nav-item\">\n",
      "      <a class=\"nav-link js-scroll-trigger\" href=\"#classresources\">\n",
      "       Class Resources\n",
      "      </a>\n",
      "     </li>\n",
      "     <!-- <li class=\"nav-item\">\n",
      "            <a class=\"nav-link js-scroll-trigger\" href=\"#studymaterial\">Study Material</a>\n",
      "          </li> -->\n",
      "     <li class=\"nav-item\">\n",
      "      <a class=\"nav-link js-scroll-trigger\" href=\"#assignments\">\n",
      "       Assignments\n",
      "      </a>\n",
      "     </li>\n",
      "    </ul>\n",
      "   </div>\n",
      "  </nav>\n",
      "  <div class=\"container-fluid p-0\">\n",
      "   <section class=\"resume-section p-3 p-lg-5 d-flex d-column\" id=\"description\" style=\"background-color: #fff;\">\n",
      "    <div class=\"my-auto\">\n",
      "     <h1 style=\"color: #000;\">\n",
      "      CMSC 320 -\n",
      "      <span class=\"text-primary\">\n",
      "       Introduction to Data Science\n",
      "      </span>\n",
      "     </h1>\n",
      "     <br/>\n",
      "     <br/>\n",
      "     <div class=\"subheading mb-5\">\n",
      "      Class:\n",
      "      <label>\n",
      "       MTuWThF 2:00 PM - 3:25 PM,  CSI 1121\n",
      "      </label>\n",
      "      <br/>\n",
      "      <!-- <br>Discussions: <br>\n",
      "                 <label>\n",
      "                  0201: MW  8:00 AM - 8:50 AM, CSI 3117<br>\n",
      "                  0202: MW  9:00 AM - 9:50 AM, CSI 3117<br>\n",
      "                  0203: MW  2:00 PM - 2:50 PM, CSI 2120</label>\n",
      "            <a href=\"mailto:name@email.com\"></a> -->\n",
      "     </div>\n",
      "     <p class=\"mb-5\">\n",
      "      Welcome to CMSC 320. This course focuses on (i) data management systems, (ii) exploratory and statistical data analysis, (iii) data and information visualization, and (iv) the presentation and communication of analysis results. It will be centered around case studies drawing extensively from applications, and will yield a publicly-available final project that will strengthen course participants' data science portfolios.\n",
      "     </p>\n",
      "     <!-- <h2>Major Topics</h2>\n",
      "          \t<ul>\n",
      "          \t\t<li>Introduction to Computer Systems</li>\n",
      "          \t\t<li>Programming basics: variables, operators, expressions, statements, methods</li>\n",
      "          \t\t<li>Java text input/output</li>\n",
      "          \t\t<li>Conditionals</li>\n",
      "          \t\t<li>Loops</li>\n",
      "          \t\t<li>Principles of Object Oriented Programming</li>\n",
      "          \t\t<li>Basics of program design</li>\n",
      "          \t\t<li>Testing and debugging</li>\n",
      "          \t\t<li>Java memory map</li>\n",
      "          \t\t<li>Arrays and Java arraylists</li>\n",
      "          \t\t<li>Java interfaces</li>\n",
      "          \t\t<li>Inheritance</li>\n",
      "          \t\t<li>Recursion</li>\n",
      "          \t</ul> -->\n",
      "     <button class=\"btn btn-outline-secondary btn-small\" style=\"background-color: green;\">\n",
      "      <a href=\"files/syllabus.pdf\" style=\"color: white;\">\n",
      "       Syllabus\n",
      "      </a>\n",
      "     </button>\n",
      "     <!-- <ul class=\"list-inline list-social-icons mb-0\">\n",
      "            <li class=\"list-inline-item\">\n",
      "              <a href=\"#\">\n",
      "                <span class=\"fa-stack fa-lg\">\n",
      "                  <i class=\"fa fa-circle fa-stack-2x\"></i>\n",
      "                  <i class=\"fa fa-facebook fa-stack-1x fa-inverse\"></i>\n",
      "                </span>\n",
      "              </a>\n",
      "            </li>\n",
      "            <li class=\"list-inline-item\">\n",
      "              <a href=\"#\">\n",
      "                <span class=\"fa-stack fa-lg\">\n",
      "                  <i class=\"fa fa-circle fa-stack-2x\"></i>\n",
      "                  <i class=\"fa fa-twitter fa-stack-1x fa-inverse\"></i>\n",
      "                </span>\n",
      "              </a>\n",
      "            </li>\n",
      "            <li class=\"list-inline-item\">\n",
      "              <a href=\"#\">\n",
      "                <span class=\"fa-stack fa-lg\">\n",
      "                  <i class=\"fa fa-circle fa-stack-2x\"></i>\n",
      "                  <i class=\"fa fa-linkedin fa-stack-1x fa-inverse\"></i>\n",
      "                </span>\n",
      "              </a>\n",
      "            </li>\n",
      "            <li class=\"list-inline-item\">\n",
      "              <a href=\"#\">\n",
      "                <span class=\"fa-stack fa-lg\">\n",
      "                  <i class=\"fa fa-circle fa-stack-2x\"></i>\n",
      "                  <i class=\"fa fa-github fa-stack-1x fa-inverse\"></i>\n",
      "                </span>\n",
      "              </a>\n",
      "            </li>\n",
      "          </ul> -->\n",
      "    </div>\n",
      "   </section>\n",
      "   <section class=\"resume-section p-3 p-lg-5 d-flex flex-column\" id=\"announcements\" style=\"background-color: #fff;\">\n",
      "    <div class=\"my-auto\">\n",
      "     <h2 class=\"mb-5\">\n",
      "      Class Announcements\n",
      "     </h2>\n",
      "     <ul>\n",
      "      <li>\n",
      "       <b>\n",
      "        05/20/2019\n",
      "       </b>\n",
      "       <ul>\n",
      "        <li>\n",
      "         This is the class webpage for CMSC320, section 0101. Please check here often (at least once a day) for important class announcements.\n",
      "        </li>\n",
      "       </ul>\n",
      "      </li>\n",
      "      <br/>\n",
      "     </ul>\n",
      "    </div>\n",
      "   </section>\n",
      "   <section class=\"resume-section p-3 p-lg-5 d-flex flex-column\" id=\"schedule\" style=\"background-color: #fff;\">\n",
      "    <div class=\"my-auto\">\n",
      "     <h2 class=\"mb-5\">\n",
      "      Schedule\n",
      "     </h2>\n",
      "     <h3>\n",
      "      Exam Dates:\n",
      "     </h3>\n",
      "     <br/>\n",
      "     <ul>\n",
      "      <li>\n",
      "       <b>\n",
      "        Midterm:\n",
      "       </b>\n",
      "       Monday, June 24th, in Lecture.\n",
      "      </li>\n",
      "      <!-- <li><b>Midterm #2:</b> Tuesday, April 9th, in Lecture.</li> -->\n",
      "      <li>\n",
      "       <b>\n",
      "        Final Tutorial:\n",
      "       </b>\n",
      "       Friday, July 19th, 11:59 PM.\n",
      "      </li>\n",
      "     </ul>\n",
      "     <br/>\n",
      "     <h3>\n",
      "      Lectures (Tentative)\n",
      "     </h3>\n",
      "     <br/>\n",
      "     <table>\n",
      "      <tr>\n",
      "       <th>\n",
      "        Week Starting\n",
      "       </th>\n",
      "       <th>\n",
      "        <center>\n",
      "         Topic\n",
      "        </center>\n",
      "       </th>\n",
      "       <th>\n",
      "        <center>\n",
      "         Reading\n",
      "        </center>\n",
      "       </th>\n",
      "      </tr>\n",
      "      <tr>\n",
      "       <td>\n",
      "        05/28\n",
      "       </td>\n",
      "       <td>\n",
      "        Course Intro\n",
      "        <br/>\n",
      "        <a href=\"files/Lec01.pdf\" style=\"color: brown;\" target=\"_blank\">\n",
      "         Lec01\n",
      "        </a>\n",
      "       </td>\n",
      "       <td>\n",
      "        <a href=\"https://fivethirtyeight.com/features/what-the-fox-knows/\" style=\"color: brown;\" target=\"_blank\">\n",
      "         What the fox knows\n",
      "        </a>\n",
      "       </td>\n",
      "      </tr>\n",
      "      <tr>\n",
      "       <td>\n",
      "        05/29\n",
      "       </td>\n",
      "       <td>\n",
      "        Python Primer\n",
      "        <br/>\n",
      "        <a href=\"files/Lec02.pdf\" style=\"color: brown;\" target=\"_blank\">\n",
      "         Lec02\n",
      "        </a>\n",
      "       </td>\n",
      "       <td>\n",
      "       </td>\n",
      "      </tr>\n",
      "     </table>\n",
      "    </div>\n",
      "   </section>\n",
      "   <section class=\"resume-section p-3 p-lg-5 d-flex flex-column\" id=\"staff\" style=\"background-color: #fff;\">\n",
      "    <div class=\"my-auto\">\n",
      "     <h2 class=\"mb-5\">\n",
      "      Staff\n",
      "     </h2>\n",
      "     <p>\n",
      "      <b>\n",
      "       Instructor\n",
      "      </b>\n",
      "      : Mohammad Nayeem Teli (nayeem at cs.umd.edu)\n",
      "      <br/>\n",
      "      <br/>\n",
      "      Office: 1228 IRB\n",
      "      <br/>\n",
      "      Office Hours: ThF 3:30 - 4:30 PM\n",
      "     </p>\n",
      "     <br/>\n",
      "     <h3>\n",
      "      <b>\n",
      "       Teaching Assistants\n",
      "      </b>\n",
      "     </h3>\n",
      "     <br/>\n",
      "     <table>\n",
      "      <tr>\n",
      "       <th>\n",
      "        Name\n",
      "       </th>\n",
      "       <th>\n",
      "        Email\n",
      "       </th>\n",
      "       <th>\n",
      "        Office hours (at IRB Level 2 lobby)\n",
      "       </th>\n",
      "      </tr>\n",
      "      <tr>\n",
      "       <td>\n",
      "        Hanyu Wang\n",
      "       </td>\n",
      "       <td>\n",
      "        <a href=\"mailto:hywang66@cs.umd.edu\">\n",
      "         hywang66@cs.umd.edu\n",
      "        </a>\n",
      "       </td>\n",
      "       <td>\n",
      "        TuTh 11:00 AM - 1:00 PM\n",
      "       </td>\n",
      "      </tr>\n",
      "      <tr>\n",
      "       <td>\n",
      "        Jue Xu\n",
      "       </td>\n",
      "       <td>\n",
      "        <a href=\"mailto:juexu@terpmail.umd.edu\">\n",
      "         juexu@terpmail.umd.edu\n",
      "        </a>\n",
      "       </td>\n",
      "       <td>\n",
      "        MW 11:00 AM - 1:00 PM\n",
      "       </td>\n",
      "      </tr>\n",
      "     </table>\n",
      "     <br/>\n",
      "     <br/>\n",
      "    </div>\n",
      "   </section>\n",
      "   <!-- <section class=\"resume-section p-3 p-lg-5 d-flex flex-column\" id=\"officehours\" style=\"background-color: #fff;\">\n",
      "        <div class=\"my-auto\">\n",
      "          <h2 class=\"mb-5\">TA Office Hours</h2>\n",
      "\n",
      "        \n",
      "        <p>\n",
      "          All TA office hours take place in room 1112 A.V. Williams. Please note that a TA may need to leave 5 minutes before the end of the hour in order to go to his/her class. Please be understanding of their schedules.\n",
      "        </p>\n",
      "        <table>\n",
      "          <tr>\n",
      "            <th>Time</th>\n",
      "            <th>MON</th>\n",
      "            <th>TUE</th>\n",
      "            <th>WED</th>\n",
      "            <th>THU</th>\n",
      "            <th>FRI</th>\n",
      "          </tr>\n",
      "          <tr>\n",
      "            <td>9:00 - 10:00</td>\n",
      "            <td></td>\n",
      "            <td></td>\n",
      "            <td></td>\n",
      "            <td></td>\n",
      "            <td></td>\n",
      "          </tr>\n",
      "          <tr>\n",
      "            <td>10:00 - 11:00</td>\n",
      "            <td></td>\n",
      "            <td></td>\n",
      "            <td></td>\n",
      "            <td></td>\n",
      "            <td></td>\n",
      "          </tr>\n",
      "          <tr>\n",
      "            <td>11:00 - 12:00</td>\n",
      "            <td></td>\n",
      "            <td></td>\n",
      "            <td></td>\n",
      "            <td></td>\n",
      "            <td></td>\n",
      "          </tr>\n",
      "          <tr>\n",
      "            <td>12:00 - 1:00</td>\n",
      "            <td></td>\n",
      "            <td></td>\n",
      "            <td></td>\n",
      "            <td></td>\n",
      "            <td></td>\n",
      "          </tr>\n",
      "          <tr>\n",
      "            <td>1:00 - 2:00</td>\n",
      "            <td></td>\n",
      "            <td></td>\n",
      "            <td></td>\n",
      "            <td></td>\n",
      "            <td></td>\n",
      "          </tr>\n",
      "          <tr>\n",
      "            <td>2:00 - 3:00</td>\n",
      "            <td></td>\n",
      "            <td></td>\n",
      "            <td></td>\n",
      "            <td></td>\n",
      "            <td></td>\n",
      "          </tr>\n",
      "          <tr>\n",
      "            <td>3:00 - 4:00</td>\n",
      "            <td></td>\n",
      "            <td></td>\n",
      "            <td></td>\n",
      "            <td></td>\n",
      "            <td></td>\n",
      "          </tr>\n",
      "          <tr>\n",
      "            <td>4:00 - 5:00</td>\n",
      "            <td></td>\n",
      "            <td></td>\n",
      "            <td></td>\n",
      "            <td></td>\n",
      "            <td></td>\n",
      "          </tr>\n",
      "          <tr>\n",
      "            <td>5:00 - 6:00</td>\n",
      "            <td></td>\n",
      "            <td></td>\n",
      "            <td></td>\n",
      "            <td></td>\n",
      "            <td></td>\n",
      "          </tr>\n",
      "        </table>\n",
      "\n",
      "        </div>\n",
      "      </section> -->\n",
      "   <section class=\"resume-section p-3 p-lg-5 d-flex flex-column\" id=\"classresources\" style=\"background-color: #fff;\">\n",
      "    <div class=\"my-auto\">\n",
      "     <h2 class=\"mb-5\">\n",
      "      Class Resources\n",
      "     </h2>\n",
      "     <!-- <div class=\"subheading mb-3\">Examples from lecture</div> -->\n",
      "     <!-- <ul >\n",
      "            \n",
      "            \n",
      "          </ul> -->\n",
      "     <!-- <br><br> -->\n",
      "     <div class=\"subheading mb-3\">\n",
      "      Final Project\n",
      "     </div>\n",
      "     <ul>\n",
      "      <li>\n",
      "       <a href=\"files/tutorial.pdf\" style=\"color: brown;\">\n",
      "        Tutorial\n",
      "       </a>\n",
      "      </li>\n",
      "     </ul>\n",
      "     <!-- <br><br> -->\n",
      "     <div class=\"subheading mb-3\">\n",
      "      Online Course Tools\n",
      "     </div>\n",
      "     <ul>\n",
      "      <li>\n",
      "       <a href=\"https://piazza.com/class/jvykpxqd6ui5wp\" style=\"color: brown;\">\n",
      "        Piazza\n",
      "       </a>\n",
      "      </li>\n",
      "      <li>\n",
      "       <a href=\"https://www.gradescope.com/courses/50663\" style=\"color: brown;\">\n",
      "        Gradescope\n",
      "       </a>\n",
      "      </li>\n",
      "      <li>\n",
      "       <a href=\"https://www.python.org/\" style=\"color: brown;\">\n",
      "        Python\n",
      "       </a>\n",
      "      </li>\n",
      "      <li>\n",
      "       <a href=\"https://jupyter.org/\" style=\"color: brown;\">\n",
      "        Jupyter\n",
      "       </a>\n",
      "      </li>\n",
      "      <li>\n",
      "       <a href=\"https://conda.io/en/latest/\" style=\"color: brown;\">\n",
      "        Anaconda\n",
      "       </a>\n",
      "      </li>\n",
      "     </ul>\n",
      "     <br/>\n",
      "     <br/>\n",
      "    </div>\n",
      "   </section>\n",
      "   <section class=\"resume-section p-3 p-lg-5 d-flex flex-column\" id=\"assignments\" style=\"background-color: #fff;\">\n",
      "    <div class=\"my-auto\">\n",
      "     <h2 class=\"mb-5\">\n",
      "      Assignments\n",
      "     </h2>\n",
      "     <table>\n",
      "      <tr>\n",
      "       <center>\n",
      "        <th>\n",
      "         Homework\n",
      "        </th>\n",
      "        <th>\n",
      "         Due Date\n",
      "        </th>\n",
      "       </center>\n",
      "      </tr>\n",
      "      <tr>\n",
      "       <td>\n",
      "        <a href=\"https://github.com/nayeemmz/cmsc320Summer2019/tree/master/Project0\" style=\"color: brown;\" target=\"_blank\">\n",
      "         Project 0\n",
      "        </a>\n",
      "       </td>\n",
      "       <td>\n",
      "        11:59 PM May 31, 2019\n",
      "       </td>\n",
      "      </tr>\n",
      "      <tr>\n",
      "       <td>\n",
      "        <a href=\"files/tutorial.pdf\" style=\"color: brown;\">\n",
      "         Final Project\n",
      "        </a>\n",
      "       </td>\n",
      "       <td>\n",
      "        11:59 PM July19, 2019\n",
      "       </td>\n",
      "      </tr>\n",
      "     </table>\n",
      "    </div>\n",
      "   </section>\n",
      "  </div>\n",
      "  <!-- Bootstrap core JavaScript -->\n",
      "  <script src=\"vendor/jquery/jquery.min.js\">\n",
      "  </script>\n",
      "  <script src=\"vendor/bootstrap/js/bootstrap.bundle.min.js\">\n",
      "  </script>\n",
      "  <!-- Plugin JavaScript -->\n",
      "  <script src=\"vendor/jquery-easing/jquery.easing.min.js\">\n",
      "  </script>\n",
      "  <!-- Custom scripts for this template -->\n",
      "  <script src=\"js/resume.min.js\">\n",
      "  </script>\n",
      "  <footer id=\"section-footer\">\n",
      "   <link href=\"https://www.cs.umd.edu/sites/all/themes/cs/css/template.css\" rel=\"stylesheet\"/>\n",
      "   <a class=\"university\" href=\"http://www.umd.edu\" title=\"University of Maryland website\">\n",
      "    University of Maryland website\n",
      "   </a>\n",
      "   <p class=\"address\">\n",
      "    Department of Computer Science\n",
      "    <br/>\n",
      "    A.V. Williams Building, University of Maryland\n",
      "    <br/>\n",
      "    College Park, MD 20742\n",
      "    <br/>\n",
      "    ph: (301) 405-2662\n",
      "    <br/>\n",
      "    <a href=\"https://umd.edu/web-accessibility\" title=\"UMD web accessibility statement\">\n",
      "     Web Accessibility\n",
      "    </a>\n",
      "   </p>\n",
      "   <p class=\"social\">\n",
      "    <a class=\"facebook\" href=\"https://www.facebook.com/UMDCompSci\" target=\"_blank\" title=\"Facebook\">\n",
      "     Facebook\n",
      "    </a>\n",
      "    <a class=\"twitter\" href=\"https://twitter.com/UMDCompSci\" target=\"_blank\" title=\"Twitter\">\n",
      "     Twitter\n",
      "    </a>\n",
      "    <a class=\"linkedin\" data-proofer-ignore=\"\" href=\"https://www.linkedin.com/in/umd-cs-544a3b62\" target=\"_blank\" title=\"LinkedIn\">\n",
      "     LinkedIn\n",
      "    </a>\n",
      "    <a class=\"rss\" href=\"http://www.cs.umd.edu/feeds/news/all\" target=\"_blank\" title=\"RSS Feed\">\n",
      "     RSS Feed\n",
      "    </a>\n",
      "   </p>\n",
      "  </footer>\n",
      " </body>\n",
      "</html>\n",
      "\n"
     ]
    }
   ],
   "source": [
    "print(root.prettify())"
   ]
  },
  {
   "cell_type": "code",
   "execution_count": 26,
   "metadata": {},
   "outputs": [
    {
     "data": {
      "text/plain": [
       "[<a class=\"navbar-brand js-scroll-trigger\" href=\"#page-top\">\n",
       " <span class=\"d-block d-lg-none\">CMSC 320</span>\n",
       " <span class=\"d-none d-lg-block\">\n",
       " <h6 style=\"color: #fff;\">CMSC 320 - Summer 2019<br/>\n",
       " <h6 style=\"color: #fff;\"> Sections: 0101 </h6>\n",
       " <img alt=\"\" class=\"img-fluid img-profile rounded-circle mx-auto mb-2\" src=\"img/logo1.png\"/>\n",
       " </h6></span>\n",
       " </a>,\n",
       " <a class=\"nav-link js-scroll-trigger\" href=\"#description\">Description</a>,\n",
       " <a class=\"nav-link js-scroll-trigger\" href=\"#announcements\">Announcements</a>,\n",
       " <a class=\"nav-link js-scroll-trigger\" href=\"#schedule\">Schedule</a>,\n",
       " <a class=\"nav-link js-scroll-trigger\" href=\"#staff\">Staff and Office hours</a>,\n",
       " <a class=\"nav-link js-scroll-trigger\" href=\"#classresources\">Class Resources</a>,\n",
       " <a class=\"nav-link js-scroll-trigger\" href=\"#assignments\">Assignments</a>,\n",
       " <a href=\"files/syllabus.pdf\" style=\"color: white;\">Syllabus</a>,\n",
       " <a href=\"files/Lec01.pdf\" style=\"color: brown;\" target=\"_blank\">Lec01</a>,\n",
       " <a href=\"https://fivethirtyeight.com/features/what-the-fox-knows/\" style=\"color: brown;\" target=\"_blank\">What the fox knows</a>,\n",
       " <a href=\"files/Lec02.pdf\" style=\"color: brown;\" target=\"_blank\">Lec02</a>,\n",
       " <a href=\"mailto:hywang66@cs.umd.edu\">hywang66@cs.umd.edu</a>,\n",
       " <a href=\"mailto:juexu@terpmail.umd.edu\">juexu@terpmail.umd.edu</a>,\n",
       " <a href=\"files/tutorial.pdf\" style=\"color: brown;\">Tutorial</a>,\n",
       " <a href=\"https://piazza.com/class/jvykpxqd6ui5wp\" style=\"color: brown;\"> Piazza </a>,\n",
       " <a href=\"https://www.gradescope.com/courses/50663\" style=\"color: brown;\"> Gradescope\n",
       "             </a>,\n",
       " <a href=\"https://www.python.org/\" style=\"color: brown;\"> Python\n",
       "             </a>,\n",
       " <a href=\"https://jupyter.org/\" style=\"color: brown;\"> Jupyter </a>,\n",
       " <a href=\"https://conda.io/en/latest/\" style=\"color: brown;\"> Anaconda </a>,\n",
       " <a href=\"https://github.com/nayeemmz/cmsc320Summer2019/tree/master/Project0\" style=\"color: brown;\" target=\"_blank\">Project 0 </a>,\n",
       " <a href=\"files/tutorial.pdf\" style=\"color: brown;\">Final Project</a>,\n",
       " <a class=\"university\" href=\"http://www.umd.edu\" title=\"University of Maryland website\">University of Maryland website</a>,\n",
       " <a href=\"https://umd.edu/web-accessibility\" title=\"UMD web accessibility statement\">Web Accessibility</a>,\n",
       " <a class=\"facebook\" href=\"https://www.facebook.com/UMDCompSci\" target=\"_blank\" title=\"Facebook\">Facebook</a>,\n",
       " <a class=\"twitter\" href=\"https://twitter.com/UMDCompSci\" target=\"_blank\" title=\"Twitter\">Twitter</a>,\n",
       " <a class=\"linkedin\" data-proofer-ignore=\"\" href=\"https://www.linkedin.com/in/umd-cs-544a3b62\" target=\"_blank\" title=\"LinkedIn\">LinkedIn</a>,\n",
       " <a class=\"rss\" href=\"http://www.cs.umd.edu/feeds/news/all\" target=\"_blank\" title=\"RSS Feed\">RSS Feed</a>]"
      ]
     },
     "execution_count": 26,
     "metadata": {},
     "output_type": "execute_result"
    }
   ],
   "source": [
    "links = root.findAll(\"a\")"
   ]
  },
  {
   "cell_type": "code",
   "execution_count": 34,
   "metadata": {},
   "outputs": [
    {
     "name": "stdout",
     "output_type": "stream",
     "text": [
      "[<a class=\"navbar-brand js-scroll-trigger\" href=\"#page-top\">\n",
      "<span class=\"d-block d-lg-none\">CMSC 320</span>\n",
      "<span class=\"d-none d-lg-block\">\n",
      "<h6 style=\"color: #fff;\">CMSC 320 - Summer 2019<br/>\n",
      "<h6 style=\"color: #fff;\"> Sections: 0101 </h6>\n",
      "<img alt=\"\" class=\"img-fluid img-profile rounded-circle mx-auto mb-2\" src=\"img/logo1.png\"/>\n",
      "</h6></span>\n",
      "</a>, <a class=\"nav-link js-scroll-trigger\" href=\"#description\">Description</a>, <a class=\"nav-link js-scroll-trigger\" href=\"#announcements\">Announcements</a>, <a class=\"nav-link js-scroll-trigger\" href=\"#schedule\">Schedule</a>, <a class=\"nav-link js-scroll-trigger\" href=\"#staff\">Staff and Office hours</a>, <a class=\"nav-link js-scroll-trigger\" href=\"#classresources\">Class Resources</a>, <a class=\"nav-link js-scroll-trigger\" href=\"#assignments\">Assignments</a>, <a href=\"files/syllabus.pdf\" style=\"color: white;\">Syllabus</a>, <a href=\"files/Lec01.pdf\" style=\"color: brown;\" target=\"_blank\">Lec01</a>, <a href=\"https://fivethirtyeight.com/features/what-the-fox-knows/\" style=\"color: brown;\" target=\"_blank\">What the fox knows</a>, <a href=\"files/Lec02.pdf\" style=\"color: brown;\" target=\"_blank\">Lec02</a>, <a href=\"mailto:hywang66@cs.umd.edu\">hywang66@cs.umd.edu</a>, <a href=\"mailto:juexu@terpmail.umd.edu\">juexu@terpmail.umd.edu</a>, <a href=\"files/tutorial.pdf\" style=\"color: brown;\">Tutorial</a>, <a href=\"https://piazza.com/class/jvykpxqd6ui5wp\" style=\"color: brown;\"> Piazza </a>, <a href=\"https://www.gradescope.com/courses/50663\" style=\"color: brown;\"> Gradescope\n",
      "            </a>, <a href=\"https://www.python.org/\" style=\"color: brown;\"> Python\n",
      "            </a>, <a href=\"https://jupyter.org/\" style=\"color: brown;\"> Jupyter </a>, <a href=\"https://conda.io/en/latest/\" style=\"color: brown;\"> Anaconda </a>, <a href=\"https://github.com/nayeemmz/cmsc320Summer2019/tree/master/Project0\" style=\"color: brown;\" target=\"_blank\">Project 0 </a>, <a href=\"files/tutorial.pdf\" style=\"color: brown;\">Final Project</a>, <a class=\"university\" href=\"http://www.umd.edu\" title=\"University of Maryland website\">University of Maryland website</a>, <a href=\"https://umd.edu/web-accessibility\" title=\"UMD web accessibility statement\">Web Accessibility</a>, <a class=\"facebook\" href=\"https://www.facebook.com/UMDCompSci\" target=\"_blank\" title=\"Facebook\">Facebook</a>, <a class=\"twitter\" href=\"https://twitter.com/UMDCompSci\" target=\"_blank\" title=\"Twitter\">Twitter</a>, <a class=\"linkedin\" data-proofer-ignore=\"\" href=\"https://www.linkedin.com/in/umd-cs-544a3b62\" target=\"_blank\" title=\"LinkedIn\">LinkedIn</a>, <a class=\"rss\" href=\"http://www.cs.umd.edu/feeds/news/all\" target=\"_blank\" title=\"RSS Feed\">RSS Feed</a>]\n"
     ]
    }
   ],
   "source": [
    "print(lnks)"
   ]
  },
  {
   "cell_type": "code",
   "execution_count": 33,
   "metadata": {},
   "outputs": [],
   "source": [
    "lnks = root.findAll(\"a\")"
   ]
  },
  {
   "cell_type": "code",
   "execution_count": 35,
   "metadata": {},
   "outputs": [
    {
     "data": {
      "text/plain": [
       "[<a class=\"navbar-brand js-scroll-trigger\" href=\"#page-top\">\n",
       " <span class=\"d-block d-lg-none\">CMSC 320</span>\n",
       " <span class=\"d-none d-lg-block\">\n",
       " <h6 style=\"color: #fff;\">CMSC 320 - Summer 2019<br/>\n",
       " <h6 style=\"color: #fff;\"> Sections: 0101 </h6>\n",
       " <img alt=\"\" class=\"img-fluid img-profile rounded-circle mx-auto mb-2\" src=\"img/logo1.png\"/>\n",
       " </h6></span>\n",
       " </a>,\n",
       " <a class=\"nav-link js-scroll-trigger\" href=\"#description\">Description</a>,\n",
       " <a class=\"nav-link js-scroll-trigger\" href=\"#announcements\">Announcements</a>,\n",
       " <a class=\"nav-link js-scroll-trigger\" href=\"#schedule\">Schedule</a>,\n",
       " <a class=\"nav-link js-scroll-trigger\" href=\"#staff\">Staff and Office hours</a>,\n",
       " <a class=\"nav-link js-scroll-trigger\" href=\"#classresources\">Class Resources</a>,\n",
       " <a class=\"nav-link js-scroll-trigger\" href=\"#assignments\">Assignments</a>,\n",
       " <a href=\"files/syllabus.pdf\" style=\"color: white;\">Syllabus</a>,\n",
       " <a href=\"files/Lec01.pdf\" style=\"color: brown;\" target=\"_blank\">Lec01</a>,\n",
       " <a href=\"https://fivethirtyeight.com/features/what-the-fox-knows/\" style=\"color: brown;\" target=\"_blank\">What the fox knows</a>,\n",
       " <a href=\"files/Lec02.pdf\" style=\"color: brown;\" target=\"_blank\">Lec02</a>,\n",
       " <a href=\"mailto:hywang66@cs.umd.edu\">hywang66@cs.umd.edu</a>,\n",
       " <a href=\"mailto:juexu@terpmail.umd.edu\">juexu@terpmail.umd.edu</a>,\n",
       " <a href=\"files/tutorial.pdf\" style=\"color: brown;\">Tutorial</a>,\n",
       " <a href=\"https://piazza.com/class/jvykpxqd6ui5wp\" style=\"color: brown;\"> Piazza </a>,\n",
       " <a href=\"https://www.gradescope.com/courses/50663\" style=\"color: brown;\"> Gradescope\n",
       "             </a>,\n",
       " <a href=\"https://www.python.org/\" style=\"color: brown;\"> Python\n",
       "             </a>,\n",
       " <a href=\"https://jupyter.org/\" style=\"color: brown;\"> Jupyter </a>,\n",
       " <a href=\"https://conda.io/en/latest/\" style=\"color: brown;\"> Anaconda </a>,\n",
       " <a href=\"https://github.com/nayeemmz/cmsc320Summer2019/tree/master/Project0\" style=\"color: brown;\" target=\"_blank\">Project 0 </a>,\n",
       " <a href=\"files/tutorial.pdf\" style=\"color: brown;\">Final Project</a>,\n",
       " <a class=\"university\" href=\"http://www.umd.edu\" title=\"University of Maryland website\">University of Maryland website</a>,\n",
       " <a href=\"https://umd.edu/web-accessibility\" title=\"UMD web accessibility statement\">Web Accessibility</a>,\n",
       " <a class=\"facebook\" href=\"https://www.facebook.com/UMDCompSci\" target=\"_blank\" title=\"Facebook\">Facebook</a>,\n",
       " <a class=\"twitter\" href=\"https://twitter.com/UMDCompSci\" target=\"_blank\" title=\"Twitter\">Twitter</a>,\n",
       " <a class=\"linkedin\" data-proofer-ignore=\"\" href=\"https://www.linkedin.com/in/umd-cs-544a3b62\" target=\"_blank\" title=\"LinkedIn\">LinkedIn</a>,\n",
       " <a class=\"rss\" href=\"http://www.cs.umd.edu/feeds/news/all\" target=\"_blank\" title=\"RSS Feed\">RSS Feed</a>]"
      ]
     },
     "execution_count": 35,
     "metadata": {},
     "output_type": "execute_result"
    }
   ],
   "source": [
    "lnks"
   ]
  },
  {
   "cell_type": "code",
   "execution_count": 36,
   "metadata": {},
   "outputs": [
    {
     "data": {
      "text/plain": [
       "<a class=\"navbar-brand js-scroll-trigger\" href=\"#page-top\">\n",
       "<span class=\"d-block d-lg-none\">CMSC 320</span>\n",
       "<span class=\"d-none d-lg-block\">\n",
       "<h6 style=\"color: #fff;\">CMSC 320 - Summer 2019<br/>\n",
       "<h6 style=\"color: #fff;\"> Sections: 0101 </h6>\n",
       "<img alt=\"\" class=\"img-fluid img-profile rounded-circle mx-auto mb-2\" src=\"img/logo1.png\"/>\n",
       "</h6></span>\n",
       "</a>"
      ]
     },
     "execution_count": 36,
     "metadata": {},
     "output_type": "execute_result"
    }
   ],
   "source": [
    "lnks[0]"
   ]
  },
  {
   "cell_type": "code",
   "execution_count": 37,
   "metadata": {},
   "outputs": [],
   "source": [
    "text = \"this is introduction to data science, cmsc320, specifically 320 summer 2019\""
   ]
  },
  {
   "cell_type": "code",
   "execution_count": 38,
   "metadata": {},
   "outputs": [],
   "source": [
    "import re"
   ]
  },
  {
   "cell_type": "code",
   "execution_count": 39,
   "metadata": {},
   "outputs": [],
   "source": [
    "match = re.match(r\"cmsc320\",text)"
   ]
  },
  {
   "cell_type": "code",
   "execution_count": 40,
   "metadata": {},
   "outputs": [],
   "source": [
    "match"
   ]
  },
  {
   "cell_type": "code",
   "execution_count": 45,
   "metadata": {},
   "outputs": [
    {
     "name": "stdout",
     "output_type": "stream",
     "text": [
      "<_sre.SRE_Match object; span=(42, 45), match='320'>\n",
      "<_sre.SRE_Match object; span=(60, 63), match='320'>\n"
     ]
    }
   ],
   "source": [
    "for match in re.finditer(r\"320\",text):\n",
    "    print(match)"
   ]
  },
  {
   "cell_type": "code",
   "execution_count": 42,
   "metadata": {},
   "outputs": [
    {
     "name": "stdout",
     "output_type": "stream",
     "text": [
      "38\n"
     ]
    }
   ],
   "source": [
    "print(match.start())"
   ]
  },
  {
   "cell_type": "code",
   "execution_count": 44,
   "metadata": {},
   "outputs": [
    {
     "data": {
      "text/plain": [
       "['320', '320']"
      ]
     },
     "execution_count": 44,
     "metadata": {},
     "output_type": "execute_result"
    }
   ],
   "source": [
    "re.findall(r\"320\",text)"
   ]
  },
  {
   "cell_type": "code",
   "execution_count": 46,
   "metadata": {},
   "outputs": [
    {
     "name": "stdout",
     "output_type": "stream",
     "text": [
      "<_sre.SRE_Match object; span=(15, 16), match='c'>\n",
      "<_sre.SRE_Match object; span=(30, 31), match='c'>\n",
      "<_sre.SRE_Match object; span=(34, 35), match='c'>\n",
      "<_sre.SRE_Match object; span=(38, 39), match='c'>\n",
      "<_sre.SRE_Match object; span=(41, 42), match='c'>\n",
      "<_sre.SRE_Match object; span=(50, 51), match='c'>\n",
      "<_sre.SRE_Match object; span=(54, 55), match='c'>\n",
      "<_sre.SRE_Match object; span=(73, 74), match='1'>\n"
     ]
    }
   ],
   "source": [
    "for match in re.finditer(r\"[1bc]\",text):\n",
    "    print(match)"
   ]
  },
  {
   "cell_type": "code",
   "execution_count": 47,
   "metadata": {},
   "outputs": [
    {
     "name": "stdout",
     "output_type": "stream",
     "text": [
      "<_sre.SRE_Match object; span=(0, 1), match='t'>\n",
      "<_sre.SRE_Match object; span=(1, 2), match='h'>\n",
      "<_sre.SRE_Match object; span=(2, 3), match='i'>\n",
      "<_sre.SRE_Match object; span=(3, 4), match='s'>\n",
      "<_sre.SRE_Match object; span=(4, 5), match=' '>\n",
      "<_sre.SRE_Match object; span=(5, 6), match='i'>\n",
      "<_sre.SRE_Match object; span=(6, 7), match='s'>\n",
      "<_sre.SRE_Match object; span=(7, 8), match=' '>\n",
      "<_sre.SRE_Match object; span=(8, 9), match='i'>\n",
      "<_sre.SRE_Match object; span=(9, 10), match='n'>\n",
      "<_sre.SRE_Match object; span=(10, 11), match='t'>\n",
      "<_sre.SRE_Match object; span=(11, 12), match='r'>\n",
      "<_sre.SRE_Match object; span=(12, 13), match='o'>\n",
      "<_sre.SRE_Match object; span=(13, 14), match='d'>\n",
      "<_sre.SRE_Match object; span=(14, 15), match='u'>\n",
      "<_sre.SRE_Match object; span=(16, 17), match='t'>\n",
      "<_sre.SRE_Match object; span=(17, 18), match='i'>\n",
      "<_sre.SRE_Match object; span=(18, 19), match='o'>\n",
      "<_sre.SRE_Match object; span=(19, 20), match='n'>\n",
      "<_sre.SRE_Match object; span=(20, 21), match=' '>\n",
      "<_sre.SRE_Match object; span=(21, 22), match='t'>\n",
      "<_sre.SRE_Match object; span=(22, 23), match='o'>\n",
      "<_sre.SRE_Match object; span=(23, 24), match=' '>\n",
      "<_sre.SRE_Match object; span=(24, 25), match='d'>\n",
      "<_sre.SRE_Match object; span=(26, 27), match='t'>\n",
      "<_sre.SRE_Match object; span=(28, 29), match=' '>\n",
      "<_sre.SRE_Match object; span=(29, 30), match='s'>\n",
      "<_sre.SRE_Match object; span=(31, 32), match='i'>\n",
      "<_sre.SRE_Match object; span=(32, 33), match='e'>\n",
      "<_sre.SRE_Match object; span=(33, 34), match='n'>\n",
      "<_sre.SRE_Match object; span=(35, 36), match='e'>\n",
      "<_sre.SRE_Match object; span=(36, 37), match=','>\n",
      "<_sre.SRE_Match object; span=(37, 38), match=' '>\n",
      "<_sre.SRE_Match object; span=(39, 40), match='m'>\n",
      "<_sre.SRE_Match object; span=(40, 41), match='s'>\n",
      "<_sre.SRE_Match object; span=(42, 43), match='3'>\n",
      "<_sre.SRE_Match object; span=(43, 44), match='2'>\n",
      "<_sre.SRE_Match object; span=(44, 45), match='0'>\n",
      "<_sre.SRE_Match object; span=(45, 46), match=','>\n",
      "<_sre.SRE_Match object; span=(46, 47), match=' '>\n",
      "<_sre.SRE_Match object; span=(47, 48), match='s'>\n",
      "<_sre.SRE_Match object; span=(48, 49), match='p'>\n",
      "<_sre.SRE_Match object; span=(49, 50), match='e'>\n",
      "<_sre.SRE_Match object; span=(51, 52), match='i'>\n",
      "<_sre.SRE_Match object; span=(52, 53), match='f'>\n",
      "<_sre.SRE_Match object; span=(53, 54), match='i'>\n",
      "<_sre.SRE_Match object; span=(56, 57), match='l'>\n",
      "<_sre.SRE_Match object; span=(57, 58), match='l'>\n",
      "<_sre.SRE_Match object; span=(58, 59), match='y'>\n",
      "<_sre.SRE_Match object; span=(59, 60), match=' '>\n",
      "<_sre.SRE_Match object; span=(60, 61), match='3'>\n",
      "<_sre.SRE_Match object; span=(61, 62), match='2'>\n",
      "<_sre.SRE_Match object; span=(62, 63), match='0'>\n",
      "<_sre.SRE_Match object; span=(63, 64), match=' '>\n",
      "<_sre.SRE_Match object; span=(64, 65), match='s'>\n",
      "<_sre.SRE_Match object; span=(65, 66), match='u'>\n",
      "<_sre.SRE_Match object; span=(66, 67), match='m'>\n",
      "<_sre.SRE_Match object; span=(67, 68), match='m'>\n",
      "<_sre.SRE_Match object; span=(68, 69), match='e'>\n",
      "<_sre.SRE_Match object; span=(69, 70), match='r'>\n",
      "<_sre.SRE_Match object; span=(70, 71), match=' '>\n",
      "<_sre.SRE_Match object; span=(71, 72), match='2'>\n",
      "<_sre.SRE_Match object; span=(72, 73), match='0'>\n",
      "<_sre.SRE_Match object; span=(73, 74), match='1'>\n",
      "<_sre.SRE_Match object; span=(74, 75), match='9'>\n"
     ]
    }
   ],
   "source": [
    "for match in re.finditer(r\"[^abc]\",text):\n",
    "    print(match)"
   ]
  },
  {
   "cell_type": "code",
   "execution_count": 51,
   "metadata": {},
   "outputs": [],
   "source": [
    "text1 = \"        University of Maryland, College Park\" "
   ]
  },
  {
   "cell_type": "code",
   "execution_count": 52,
   "metadata": {},
   "outputs": [
    {
     "data": {
      "text/plain": [
       "<_sre.SRE_Match object; span=(0, 30), match='        University of Maryland'>"
      ]
     },
     "execution_count": 52,
     "metadata": {},
     "output_type": "execute_result"
    }
   ],
   "source": [
    "re.match(r\"\\s*University\\sof\\s\\w{3,}\",text1)"
   ]
  },
  {
   "cell_type": "code",
   "execution_count": 56,
   "metadata": {},
   "outputs": [],
   "source": [
    "match= re.match(r\"\\d[0-9]*\",text)"
   ]
  },
  {
   "cell_type": "code",
   "execution_count": 57,
   "metadata": {},
   "outputs": [
    {
     "name": "stdout",
     "output_type": "stream",
     "text": [
      "None\n"
     ]
    }
   ],
   "source": [
    "print(match)"
   ]
  },
  {
   "cell_type": "code",
   "execution_count": 59,
   "metadata": {},
   "outputs": [
    {
     "name": "stdout",
     "output_type": "stream",
     "text": [
      "<_sre.SRE_Match object; span=(42, 45), match='320'>\n",
      "<_sre.SRE_Match object; span=(60, 63), match='320'>\n",
      "<_sre.SRE_Match object; span=(71, 75), match='2019'>\n"
     ]
    }
   ],
   "source": [
    "for match in re.finditer(r\"\\d[0-9]*\",text):\n",
    "    print(match)"
   ]
  },
  {
   "cell_type": "code",
   "execution_count": 60,
   "metadata": {},
   "outputs": [
    {
     "data": {
      "text/plain": [
       "[<a class=\"navbar-brand js-scroll-trigger\" href=\"#page-top\">\n",
       " <span class=\"d-block d-lg-none\">CMSC 320</span>\n",
       " <span class=\"d-none d-lg-block\">\n",
       " <h6 style=\"color: #fff;\">CMSC 320 - Summer 2019<br/>\n",
       " <h6 style=\"color: #fff;\"> Sections: 0101 </h6>\n",
       " <img alt=\"\" class=\"img-fluid img-profile rounded-circle mx-auto mb-2\" src=\"img/logo1.png\"/>\n",
       " </h6></span>\n",
       " </a>,\n",
       " <a class=\"nav-link js-scroll-trigger\" href=\"#description\">Description</a>,\n",
       " <a class=\"nav-link js-scroll-trigger\" href=\"#announcements\">Announcements</a>,\n",
       " <a class=\"nav-link js-scroll-trigger\" href=\"#schedule\">Schedule</a>,\n",
       " <a class=\"nav-link js-scroll-trigger\" href=\"#staff\">Staff and Office hours</a>,\n",
       " <a class=\"nav-link js-scroll-trigger\" href=\"#classresources\">Class Resources</a>,\n",
       " <a class=\"nav-link js-scroll-trigger\" href=\"#assignments\">Assignments</a>,\n",
       " <a href=\"files/syllabus.pdf\" style=\"color: white;\">Syllabus</a>,\n",
       " <a href=\"files/Lec01.pdf\" style=\"color: brown;\" target=\"_blank\">Lec01</a>,\n",
       " <a href=\"https://fivethirtyeight.com/features/what-the-fox-knows/\" style=\"color: brown;\" target=\"_blank\">What the fox knows</a>,\n",
       " <a href=\"files/Lec02.pdf\" style=\"color: brown;\" target=\"_blank\">Lec02</a>,\n",
       " <a href=\"mailto:hywang66@cs.umd.edu\">hywang66@cs.umd.edu</a>,\n",
       " <a href=\"mailto:juexu@terpmail.umd.edu\">juexu@terpmail.umd.edu</a>,\n",
       " <a href=\"files/tutorial.pdf\" style=\"color: brown;\">Tutorial</a>,\n",
       " <a href=\"https://piazza.com/class/jvykpxqd6ui5wp\" style=\"color: brown;\"> Piazza </a>,\n",
       " <a href=\"https://www.gradescope.com/courses/50663\" style=\"color: brown;\"> Gradescope\n",
       "             </a>,\n",
       " <a href=\"https://www.python.org/\" style=\"color: brown;\"> Python\n",
       "             </a>,\n",
       " <a href=\"https://jupyter.org/\" style=\"color: brown;\"> Jupyter </a>,\n",
       " <a href=\"https://conda.io/en/latest/\" style=\"color: brown;\"> Anaconda </a>,\n",
       " <a href=\"https://github.com/nayeemmz/cmsc320Summer2019/tree/master/Project0\" style=\"color: brown;\" target=\"_blank\">Project 0 </a>,\n",
       " <a href=\"files/tutorial.pdf\" style=\"color: brown;\">Final Project</a>,\n",
       " <a class=\"university\" href=\"http://www.umd.edu\" title=\"University of Maryland website\">University of Maryland website</a>,\n",
       " <a href=\"https://umd.edu/web-accessibility\" title=\"UMD web accessibility statement\">Web Accessibility</a>,\n",
       " <a class=\"facebook\" href=\"https://www.facebook.com/UMDCompSci\" target=\"_blank\" title=\"Facebook\">Facebook</a>,\n",
       " <a class=\"twitter\" href=\"https://twitter.com/UMDCompSci\" target=\"_blank\" title=\"Twitter\">Twitter</a>,\n",
       " <a class=\"linkedin\" data-proofer-ignore=\"\" href=\"https://www.linkedin.com/in/umd-cs-544a3b62\" target=\"_blank\" title=\"LinkedIn\">LinkedIn</a>,\n",
       " <a class=\"rss\" href=\"http://www.cs.umd.edu/feeds/news/all\" target=\"_blank\" title=\"RSS Feed\">RSS Feed</a>]"
      ]
     },
     "execution_count": 60,
     "metadata": {},
     "output_type": "execute_result"
    }
   ],
   "source": [
    "lnks"
   ]
  },
  {
   "cell_type": "code",
   "execution_count": 61,
   "metadata": {},
   "outputs": [],
   "source": [
    "re.match(r\"cmsc320\",text)"
   ]
  },
  {
   "cell_type": "code",
   "execution_count": 62,
   "metadata": {},
   "outputs": [],
   "source": [
    "regex = re.compile(r\"320\")"
   ]
  },
  {
   "cell_type": "code",
   "execution_count": 64,
   "metadata": {},
   "outputs": [
    {
     "name": "stdout",
     "output_type": "stream",
     "text": [
      "None\n"
     ]
    }
   ],
   "source": [
    "print(regex.match(text))"
   ]
  },
  {
   "cell_type": "code",
   "execution_count": 65,
   "metadata": {},
   "outputs": [
    {
     "name": "stdout",
     "output_type": "stream",
     "text": [
      "['320', '320']\n"
     ]
    }
   ],
   "source": [
    "print(regex.findall(text))"
   ]
  },
  {
   "cell_type": "code",
   "execution_count": 66,
   "metadata": {},
   "outputs": [
    {
     "data": {
      "text/plain": [
       "[<a class=\"navbar-brand js-scroll-trigger\" href=\"#page-top\">\n",
       " <span class=\"d-block d-lg-none\">CMSC 320</span>\n",
       " <span class=\"d-none d-lg-block\">\n",
       " <h6 style=\"color: #fff;\">CMSC 320 - Summer 2019<br/>\n",
       " <h6 style=\"color: #fff;\"> Sections: 0101 </h6>\n",
       " <img alt=\"\" class=\"img-fluid img-profile rounded-circle mx-auto mb-2\" src=\"img/logo1.png\"/>\n",
       " </h6></span>\n",
       " </a>,\n",
       " <a class=\"nav-link js-scroll-trigger\" href=\"#description\">Description</a>,\n",
       " <a class=\"nav-link js-scroll-trigger\" href=\"#announcements\">Announcements</a>,\n",
       " <a class=\"nav-link js-scroll-trigger\" href=\"#schedule\">Schedule</a>,\n",
       " <a class=\"nav-link js-scroll-trigger\" href=\"#staff\">Staff and Office hours</a>,\n",
       " <a class=\"nav-link js-scroll-trigger\" href=\"#classresources\">Class Resources</a>,\n",
       " <a class=\"nav-link js-scroll-trigger\" href=\"#assignments\">Assignments</a>,\n",
       " <a href=\"files/syllabus.pdf\" style=\"color: white;\">Syllabus</a>,\n",
       " <a href=\"files/Lec01.pdf\" style=\"color: brown;\" target=\"_blank\">Lec01</a>,\n",
       " <a href=\"https://fivethirtyeight.com/features/what-the-fox-knows/\" style=\"color: brown;\" target=\"_blank\">What the fox knows</a>,\n",
       " <a href=\"files/Lec02.pdf\" style=\"color: brown;\" target=\"_blank\">Lec02</a>,\n",
       " <a href=\"mailto:hywang66@cs.umd.edu\">hywang66@cs.umd.edu</a>,\n",
       " <a href=\"mailto:juexu@terpmail.umd.edu\">juexu@terpmail.umd.edu</a>,\n",
       " <a href=\"files/tutorial.pdf\" style=\"color: brown;\">Tutorial</a>,\n",
       " <a href=\"https://piazza.com/class/jvykpxqd6ui5wp\" style=\"color: brown;\"> Piazza </a>,\n",
       " <a href=\"https://www.gradescope.com/courses/50663\" style=\"color: brown;\"> Gradescope\n",
       "             </a>,\n",
       " <a href=\"https://www.python.org/\" style=\"color: brown;\"> Python\n",
       "             </a>,\n",
       " <a href=\"https://jupyter.org/\" style=\"color: brown;\"> Jupyter </a>,\n",
       " <a href=\"https://conda.io/en/latest/\" style=\"color: brown;\"> Anaconda </a>,\n",
       " <a href=\"https://github.com/nayeemmz/cmsc320Summer2019/tree/master/Project0\" style=\"color: brown;\" target=\"_blank\">Project 0 </a>,\n",
       " <a href=\"files/tutorial.pdf\" style=\"color: brown;\">Final Project</a>,\n",
       " <a class=\"university\" href=\"http://www.umd.edu\" title=\"University of Maryland website\">University of Maryland website</a>,\n",
       " <a href=\"https://umd.edu/web-accessibility\" title=\"UMD web accessibility statement\">Web Accessibility</a>,\n",
       " <a class=\"facebook\" href=\"https://www.facebook.com/UMDCompSci\" target=\"_blank\" title=\"Facebook\">Facebook</a>,\n",
       " <a class=\"twitter\" href=\"https://twitter.com/UMDCompSci\" target=\"_blank\" title=\"Twitter\">Twitter</a>,\n",
       " <a class=\"linkedin\" data-proofer-ignore=\"\" href=\"https://www.linkedin.com/in/umd-cs-544a3b62\" target=\"_blank\" title=\"LinkedIn\">LinkedIn</a>,\n",
       " <a class=\"rss\" href=\"http://www.cs.umd.edu/feeds/news/all\" target=\"_blank\" title=\"RSS Feed\">RSS Feed</a>]"
      ]
     },
     "execution_count": 66,
     "metadata": {},
     "output_type": "execute_result"
    }
   ],
   "source": [
    "lnks"
   ]
  },
  {
   "cell_type": "code",
   "execution_count": 68,
   "metadata": {},
   "outputs": [],
   "source": [
    "try:\n",
    "    from urllib.parse import urlparse\n",
    "except:\n",
    "    from urlparse import urlparse"
   ]
  },
  {
   "cell_type": "code",
   "execution_count": 69,
   "metadata": {},
   "outputs": [],
   "source": [
    "url = \"http://www.cs.umd.edu/class/summer2019/cmsc320/\""
   ]
  },
  {
   "cell_type": "code",
   "execution_count": 73,
   "metadata": {},
   "outputs": [],
   "source": [
    "r = requests.get(url)"
   ]
  },
  {
   "cell_type": "code",
   "execution_count": 75,
   "metadata": {},
   "outputs": [],
   "source": [
    "root = BeautifulSoup(r.content,\"lxml\")"
   ]
  },
  {
   "cell_type": "code",
   "execution_count": 76,
   "metadata": {},
   "outputs": [],
   "source": [
    "lnks = root.findAll(\"a\")"
   ]
  },
  {
   "cell_type": "code",
   "execution_count": 77,
   "metadata": {},
   "outputs": [
    {
     "data": {
      "text/plain": [
       "<a class=\"navbar-brand js-scroll-trigger\" href=\"#page-top\">\n",
       "<span class=\"d-block d-lg-none\">CMSC 320</span>\n",
       "<span class=\"d-none d-lg-block\">\n",
       "<h6 style=\"color: #fff;\">CMSC 320 - Summer 2019<br/>\n",
       "<h6 style=\"color: #fff;\"> Sections: 0101 </h6>\n",
       "<img alt=\"\" class=\"img-fluid img-profile rounded-circle mx-auto mb-2\" src=\"img/logo1.png\"/>\n",
       "</h6></span>\n",
       "</a>"
      ]
     },
     "execution_count": 77,
     "metadata": {},
     "output_type": "execute_result"
    }
   ],
   "source": [
    "lnks[0]"
   ]
  },
  {
   "cell_type": "code",
   "execution_count": 88,
   "metadata": {},
   "outputs": [],
   "source": [
    "from urllib.parse import urljoin\n",
    "i = 0\n",
    "path\n",
    "for link in lnks:\n",
    "    href = link['href']\n",
    "#     print(href)\n",
    "    if href.lower().endswith(('.pdf','.pptx')):\n",
    "        urld = urljoin(url,href)\n",
    "        rd = requests.get(urld,stream=True)\n",
    "        \n",
    "        outfile =\"output\"+str(i)+\".pdf\"\n",
    "        with open(outfile,\"wb\") as f:\n",
    "            f.write(rd.content)\n",
    "        i += 1"
   ]
  },
  {
   "cell_type": "code",
   "execution_count": null,
   "metadata": {},
   "outputs": [],
   "source": []
  }
 ],
 "metadata": {
  "kernelspec": {
   "display_name": "Python 3",
   "language": "python",
   "name": "python3"
  },
  "language_info": {
   "codemirror_mode": {
    "name": "ipython",
    "version": 3
   },
   "file_extension": ".py",
   "mimetype": "text/x-python",
   "name": "python",
   "nbconvert_exporter": "python",
   "pygments_lexer": "ipython3",
   "version": "3.6.3"
  }
 },
 "nbformat": 4,
 "nbformat_minor": 2
}
