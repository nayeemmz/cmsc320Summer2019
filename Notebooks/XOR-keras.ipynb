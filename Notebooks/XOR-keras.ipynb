{
 "cells": [
  {
   "cell_type": "code",
   "execution_count": 18,
   "metadata": {},
   "outputs": [],
   "source": [
    "import numpy as np\n",
    "from keras import Sequential\n",
    "from keras.layers.core import Dense\n",
    "import matplotlib.pyplot as plt"
   ]
  },
  {
   "cell_type": "code",
   "execution_count": 19,
   "metadata": {},
   "outputs": [],
   "source": [
    "#XOR inputs\n",
    "training_data = np.array([\n",
    "    [0,0],\n",
    "    [0,1],\n",
    "    [1,0],\n",
    "    [1,1]\n",
    "],\"float32\")\n",
    "\n",
    "#Actual Output\n",
    "target_data = np.array([\n",
    "    [0],\n",
    "    [1],\n",
    "    [1],\n",
    "    [0]\n",
    "],\"float32\")"
   ]
  },
  {
   "cell_type": "code",
   "execution_count": 20,
   "metadata": {},
   "outputs": [],
   "source": [
    "# Sequential model\n",
    "model = Sequential()\n",
    "model.add(Dense(16,input_dim=2,activation='relu'))\n",
    "model.add(Dense(1,activation='sigmoid'))"
   ]
  },
  {
   "cell_type": "code",
   "execution_count": 21,
   "metadata": {},
   "outputs": [],
   "source": [
    "model.compile(loss='mean_squared_error',\n",
    "             optimizer='adam',\n",
    "             metrics=['binary_accuracy'])"
   ]
  },
  {
   "cell_type": "code",
   "execution_count": 62,
   "metadata": {},
   "outputs": [
    {
     "name": "stdout",
     "output_type": "stream",
     "text": [
      "Epoch 1/50\n",
      "4/4 [==============================] - 0s 474us/step - loss: 5.8835e-04 - binary_accuracy: 1.0000\n",
      "Epoch 2/50\n",
      "4/4 [==============================] - 0s 456us/step - loss: 5.8775e-04 - binary_accuracy: 1.0000\n",
      "Epoch 3/50\n",
      "4/4 [==============================] - 0s 470us/step - loss: 5.8716e-04 - binary_accuracy: 1.0000\n",
      "Epoch 4/50\n",
      "4/4 [==============================] - 0s 468us/step - loss: 5.8657e-04 - binary_accuracy: 1.0000\n",
      "Epoch 5/50\n",
      "4/4 [==============================] - 0s 411us/step - loss: 5.8595e-04 - binary_accuracy: 1.0000\n",
      "Epoch 6/50\n",
      "4/4 [==============================] - 0s 421us/step - loss: 5.8535e-04 - binary_accuracy: 1.0000\n",
      "Epoch 7/50\n",
      "4/4 [==============================] - 0s 425us/step - loss: 5.8477e-04 - binary_accuracy: 1.0000\n",
      "Epoch 8/50\n",
      "4/4 [==============================] - 0s 440us/step - loss: 5.8416e-04 - binary_accuracy: 1.0000\n",
      "Epoch 9/50\n",
      "4/4 [==============================] - 0s 452us/step - loss: 5.8357e-04 - binary_accuracy: 1.0000\n",
      "Epoch 10/50\n",
      "4/4 [==============================] - 0s 424us/step - loss: 5.8298e-04 - binary_accuracy: 1.0000\n",
      "Epoch 11/50\n",
      "4/4 [==============================] - 0s 401us/step - loss: 5.8239e-04 - binary_accuracy: 1.0000\n",
      "Epoch 12/50\n",
      "4/4 [==============================] - 0s 415us/step - loss: 5.8180e-04 - binary_accuracy: 1.0000\n",
      "Epoch 13/50\n",
      "4/4 [==============================] - 0s 601us/step - loss: 5.8120e-04 - binary_accuracy: 1.0000\n",
      "Epoch 14/50\n",
      "4/4 [==============================] - 0s 470us/step - loss: 5.8058e-04 - binary_accuracy: 1.0000\n",
      "Epoch 15/50\n",
      "4/4 [==============================] - 0s 476us/step - loss: 5.8006e-04 - binary_accuracy: 1.0000\n",
      "Epoch 16/50\n",
      "4/4 [==============================] - 0s 461us/step - loss: 5.7949e-04 - binary_accuracy: 1.0000\n",
      "Epoch 17/50\n",
      "4/4 [==============================] - 0s 408us/step - loss: 5.7887e-04 - binary_accuracy: 1.0000\n",
      "Epoch 18/50\n",
      "4/4 [==============================] - 0s 448us/step - loss: 5.7824e-04 - binary_accuracy: 1.0000\n",
      "Epoch 19/50\n",
      "4/4 [==============================] - 0s 432us/step - loss: 5.7769e-04 - binary_accuracy: 1.0000\n",
      "Epoch 20/50\n",
      "4/4 [==============================] - 0s 469us/step - loss: 5.7713e-04 - binary_accuracy: 1.0000\n",
      "Epoch 21/50\n",
      "4/4 [==============================] - 0s 484us/step - loss: 5.7655e-04 - binary_accuracy: 1.0000\n",
      "Epoch 22/50\n",
      "4/4 [==============================] - 0s 397us/step - loss: 5.7595e-04 - binary_accuracy: 1.0000\n",
      "Epoch 23/50\n",
      "4/4 [==============================] - 0s 445us/step - loss: 5.7535e-04 - binary_accuracy: 1.0000\n",
      "Epoch 24/50\n",
      "4/4 [==============================] - 0s 420us/step - loss: 5.7476e-04 - binary_accuracy: 1.0000\n",
      "Epoch 25/50\n",
      "4/4 [==============================] - 0s 440us/step - loss: 5.7413e-04 - binary_accuracy: 1.0000\n",
      "Epoch 26/50\n",
      "4/4 [==============================] - 0s 404us/step - loss: 5.7358e-04 - binary_accuracy: 1.0000\n",
      "Epoch 27/50\n",
      "4/4 [==============================] - 0s 414us/step - loss: 5.7302e-04 - binary_accuracy: 1.0000\n",
      "Epoch 28/50\n",
      "4/4 [==============================] - 0s 399us/step - loss: 5.7243e-04 - binary_accuracy: 1.0000\n",
      "Epoch 29/50\n",
      "4/4 [==============================] - 0s 526us/step - loss: 5.7181e-04 - binary_accuracy: 1.0000\n",
      "Epoch 30/50\n",
      "4/4 [==============================] - 0s 369us/step - loss: 5.7122e-04 - binary_accuracy: 1.0000\n",
      "Epoch 31/50\n",
      "4/4 [==============================] - 0s 420us/step - loss: 5.7066e-04 - binary_accuracy: 1.0000\n",
      "Epoch 32/50\n",
      "4/4 [==============================] - 0s 428us/step - loss: 5.7010e-04 - binary_accuracy: 1.0000\n",
      "Epoch 33/50\n",
      "4/4 [==============================] - 0s 415us/step - loss: 5.6951e-04 - binary_accuracy: 1.0000\n",
      "Epoch 34/50\n",
      "4/4 [==============================] - 0s 412us/step - loss: 5.6893e-04 - binary_accuracy: 1.0000\n",
      "Epoch 35/50\n",
      "4/4 [==============================] - 0s 434us/step - loss: 5.6834e-04 - binary_accuracy: 1.0000\n",
      "Epoch 36/50\n",
      "4/4 [==============================] - 0s 600us/step - loss: 5.6775e-04 - binary_accuracy: 1.0000\n",
      "Epoch 37/50\n",
      "4/4 [==============================] - 0s 432us/step - loss: 5.6717e-04 - binary_accuracy: 1.0000\n",
      "Epoch 38/50\n",
      "4/4 [==============================] - 0s 480us/step - loss: 5.6663e-04 - binary_accuracy: 1.0000\n",
      "Epoch 39/50\n",
      "4/4 [==============================] - 0s 440us/step - loss: 5.6604e-04 - binary_accuracy: 1.0000\n",
      "Epoch 40/50\n",
      "4/4 [==============================] - 0s 453us/step - loss: 5.6545e-04 - binary_accuracy: 1.0000\n",
      "Epoch 41/50\n",
      "4/4 [==============================] - 0s 420us/step - loss: 5.6488e-04 - binary_accuracy: 1.0000\n",
      "Epoch 42/50\n",
      "4/4 [==============================] - 0s 401us/step - loss: 5.6431e-04 - binary_accuracy: 1.0000\n",
      "Epoch 43/50\n",
      "4/4 [==============================] - 0s 476us/step - loss: 5.6374e-04 - binary_accuracy: 1.0000\n",
      "Epoch 44/50\n",
      "4/4 [==============================] - 0s 445us/step - loss: 5.6317e-04 - binary_accuracy: 1.0000\n",
      "Epoch 45/50\n",
      "4/4 [==============================] - 0s 389us/step - loss: 5.6261e-04 - binary_accuracy: 1.0000\n",
      "Epoch 46/50\n",
      "4/4 [==============================] - 0s 439us/step - loss: 5.6205e-04 - binary_accuracy: 1.0000\n",
      "Epoch 47/50\n",
      "4/4 [==============================] - 0s 432us/step - loss: 5.6146e-04 - binary_accuracy: 1.0000\n",
      "Epoch 48/50\n",
      "4/4 [==============================] - 0s 476us/step - loss: 5.6090e-04 - binary_accuracy: 1.0000\n",
      "Epoch 49/50\n",
      "4/4 [==============================] - 0s 340us/step - loss: 5.6034e-04 - binary_accuracy: 1.0000\n",
      "Epoch 50/50\n",
      "4/4 [==============================] - 0s 418us/step - loss: 5.5978e-04 - binary_accuracy: 1.0000\n"
     ]
    }
   ],
   "source": [
    "history = model.fit(training_data,target_data,epochs=50,verbose=1)"
   ]
  },
  {
   "cell_type": "code",
   "execution_count": 63,
   "metadata": {},
   "outputs": [
    {
     "data": {
      "image/png": "[encoded data removed]",
      "text/plain": [
       "<Figure size 432x288 with 1 Axes>"
      ]
     },
     "metadata": {},
     "output_type": "display_data"
    }
   ],
   "source": [
    "plt.plot(history.history['loss'])\n",
    "plt.title('Model loss')\n",
    "plt.ylabel('Loss')\n",
    "plt.xlabel('Epoch')\n",
    "plt.show()\n"
   ]
  },
  {
   "cell_type": "code",
   "execution_count": 65,
   "metadata": {},
   "outputs": [
    {
     "name": "stdout",
     "output_type": "stream",
     "text": [
      "[[ 0.03338911]\n",
      " [ 0.98191929]\n",
      " [ 0.97926724]\n",
      " [ 0.01911027]]\n"
     ]
    }
   ],
   "source": [
    "print(model.predict(training_data))"
   ]
  },
  {
   "cell_type": "code",
   "execution_count": 57,
   "metadata": {},
   "outputs": [
    {
     "name": "stdout",
     "output_type": "stream",
     "text": [
      "_________________________________________________________________\n",
      "Layer (type)                 Output Shape              Param #   \n",
      "=================================================================\n",
      "dense_3 (Dense)              (None, 16)                48        \n",
      "_________________________________________________________________\n",
      "dense_4 (Dense)              (None, 1)                 17        \n",
      "=================================================================\n",
      "Total params: 65\n",
      "Trainable params: 65\n",
      "Non-trainable params: 0\n",
      "_________________________________________________________________\n"
     ]
    }
   ],
   "source": [
    "model.summary()"
   ]
  },
  {
   "cell_type": "code",
   "execution_count": null,
   "metadata": {},
   "outputs": [],
   "source": []
  }
 ],
 "metadata": {
  "kernelspec": {
   "display_name": "Python 3",
   "language": "python",
   "name": "python3"
  },
  "language_info": {
   "codemirror_mode": {
    "name": "ipython",
    "version": 3
   },
   "file_extension": ".py",
   "mimetype": "text/x-python",
   "name": "python",
   "nbconvert_exporter": "python",
   "pygments_lexer": "ipython3",
   "version": "3.6.8"
  }
 },
 "nbformat": 4,
 "nbformat_minor": 2
}
