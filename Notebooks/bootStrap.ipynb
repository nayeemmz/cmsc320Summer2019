{
 "cells": [
  {
   "cell_type": "code",
   "execution_count": 1,
   "metadata": {},
   "outputs": [],
   "source": [
    "import numpy as np\n",
    "import matplotlib.pyplot as plt"
   ]
  },
  {
   "cell_type": "code",
   "execution_count": 2,
   "metadata": {},
   "outputs": [
    {
     "data": {
      "text/plain": [
       "array([232, 226, 183, 356, 363, 403,  75, 199,  74, 450, 350, 344, 363,\n",
       "        53, 127, 417,   8, 333,  20, 322, 211, 149, 477, 247, 201,  87,\n",
       "       407, 458,   0,  26, 179, 173,  52, 288,  11, 331, 119, 192, 485,\n",
       "       302, 378, 288, 328,  84,  74,   9, 174, 221,  72, 267, 290, 200,\n",
       "       414, 329, 431,  94, 214, 414,  61, 323, 479, 463,  27,  35, 134,\n",
       "       135, 466, 415, 265,  45, 172, 325, 332,  54, 483,  41, 474, 116,\n",
       "       102, 418,  50, 437, 385,  24, 181,  50, 232, 127, 251, 233, 293,\n",
       "       352,  14, 132, 424, 399, 392, 194, 130, 305])"
      ]
     },
     "execution_count": 2,
     "metadata": {},
     "output_type": "execute_result"
    }
   ],
   "source": [
    "orig_sample = np.random.randint(0,500,size=100)\n",
    "orig_sample"
   ]
  },
  {
   "cell_type": "code",
   "execution_count": 3,
   "metadata": {},
   "outputs": [
    {
     "data": {
      "text/plain": [
       "235.44"
      ]
     },
     "execution_count": 3,
     "metadata": {},
     "output_type": "execute_result"
    }
   ],
   "source": [
    "mu = orig_sample.mean()\n",
    "mu"
   ]
  },
  {
   "cell_type": "code",
   "execution_count": 4,
   "metadata": {},
   "outputs": [
    {
     "data": {
      "text/plain": [
       "147.36154993756003"
      ]
     },
     "execution_count": 4,
     "metadata": {},
     "output_type": "execute_result"
    }
   ],
   "source": [
    "s = orig_sample.std()\n",
    "s"
   ]
  },
  {
   "cell_type": "code",
   "execution_count": 5,
   "metadata": {},
   "outputs": [
    {
     "data": {
      "text/plain": [
       "array([232,  52, 226,  24, 437,  50, 417,   9, 363, 328, 363, 293, 174,\n",
       "       132, 463,  20, 474, 173, 265, 363, 431, 363,  24, 414, 174, 450,\n",
       "       323, 127, 201, 232])"
      ]
     },
     "execution_count": 5,
     "metadata": {},
     "output_type": "execute_result"
    }
   ],
   "source": [
    "sample = np.random.choice(orig_sample,size=30)\n",
    "sample"
   ]
  },
  {
   "cell_type": "code",
   "execution_count": 6,
   "metadata": {},
   "outputs": [],
   "source": [
    "bs_means = []\n",
    "for _ in range(10000):\n",
    "    sample = np.random.choice(orig_sample,size=30,replace=True)\n",
    "    bs_means.append(sample.mean())"
   ]
  },
  {
   "cell_type": "code",
   "execution_count": 7,
   "metadata": {},
   "outputs": [],
   "source": [
    "bs_mean = np.mean(bs_means)\n",
    "bs_std = np.std(bs_means)"
   ]
  },
  {
   "cell_type": "code",
   "execution_count": 8,
   "metadata": {},
   "outputs": [
    {
     "data": {
      "text/plain": [
       "(235.44, 235.66105333333331)"
      ]
     },
     "execution_count": 8,
     "metadata": {},
     "output_type": "execute_result"
    }
   ],
   "source": [
    "(orig_sample.mean(), bs_mean)"
   ]
  },
  {
   "cell_type": "code",
   "execution_count": 9,
   "metadata": {},
   "outputs": [
    {
     "data": {
      "text/plain": [
       "(26.904415003241876, 26.878433627506396)"
      ]
     },
     "execution_count": 9,
     "metadata": {},
     "output_type": "execute_result"
    }
   ],
   "source": [
    "(orig_sample.std()/(30**0.5), bs_std)"
   ]
  },
  {
   "cell_type": "code",
   "execution_count": null,
   "metadata": {},
   "outputs": [],
   "source": []
  }
 ],
 "metadata": {
  "kernelspec": {
   "display_name": "Python 3",
   "language": "python",
   "name": "python3"
  },
  "language_info": {
   "codemirror_mode": {
    "name": "ipython",
    "version": 3
   },
   "file_extension": ".py",
   "mimetype": "text/x-python",
   "name": "python",
   "nbconvert_exporter": "python",
   "pygments_lexer": "ipython3",
   "version": "3.6.8"
  }
 },
 "nbformat": 4,
 "nbformat_minor": 2
}
