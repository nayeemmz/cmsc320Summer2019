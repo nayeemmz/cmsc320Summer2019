{
 "cells": [
  {
   "cell_type": "code",
   "execution_count": 257,
   "metadata": {},
   "outputs": [],
   "source": [
    "import numpy as np\n",
    "import matplotlib.pyplot as plt\n",
    "import scipy.stats\n",
    "from matplotlib import pylab"
   ]
  },
  {
   "cell_type": "code",
   "execution_count": 258,
   "metadata": {},
   "outputs": [],
   "source": [
    "x = np.random.random(50)\n",
    "y = np.random.random(50)"
   ]
  },
  {
   "cell_type": "code",
   "execution_count": 259,
   "metadata": {},
   "outputs": [
    {
     "data": {
      "text/plain": [
       "array([ 0.02221445,  0.95909607,  0.13930728,  0.19052075,  0.8914869 ,\n",
       "        0.45179343,  0.24047834,  0.07349975,  0.89663035,  0.766651  ,\n",
       "        0.48790047,  0.62918587,  0.41930155,  0.54880263,  0.10735435,\n",
       "        0.19252205,  0.22782925,  0.7307599 ,  0.89773771,  0.01692618,\n",
       "        0.10611719,  0.37527624,  0.28484564,  0.11463268,  0.55113192,\n",
       "        0.9084252 ,  0.48662221,  0.81659169,  0.11100067,  0.58488743,\n",
       "        0.33827107,  0.46374738,  0.14956928,  0.74636456,  0.6918925 ,\n",
       "        0.14165167,  0.70962232,  0.91432638,  0.48643048,  0.22353772,\n",
       "        0.74159623,  0.80095715,  0.63496943,  0.16629234,  0.58691212,\n",
       "        0.23159548,  0.75446445,  0.58197994,  0.21125643,  0.51419796])"
      ]
     },
     "execution_count": 259,
     "metadata": {},
     "output_type": "execute_result"
    }
   ],
   "source": [
    "x"
   ]
  },
  {
   "cell_type": "code",
   "execution_count": 260,
   "metadata": {},
   "outputs": [
    {
     "data": {
      "text/plain": [
       "array([ 0.92220367,  0.99738524,  0.51523636,  0.75680784,  0.12597251,\n",
       "        0.05070053,  0.51050333,  0.06448849,  0.11330691,  0.83348276,\n",
       "        0.88997107,  0.75353675,  0.30108979,  0.26773487,  0.37722177,\n",
       "        0.53165795,  0.6664029 ,  0.25684193,  0.36862185,  0.98277109,\n",
       "        0.27852227,  0.84967057,  0.7429509 ,  0.1410806 ,  0.85098051,\n",
       "        0.76991826,  0.62743327,  0.87468059,  0.68532823,  0.23641337,\n",
       "        0.04281843,  0.32537848,  0.29928111,  0.5545133 ,  0.17693908,\n",
       "        0.33127031,  0.87015925,  0.64482393,  0.57365623,  0.2168019 ,\n",
       "        0.03008121,  0.50129199,  0.50974317,  0.1336085 ,  0.71565797,\n",
       "        0.89154099,  0.68508457,  0.70414661,  0.96148459,  0.94580489])"
      ]
     },
     "execution_count": 260,
     "metadata": {},
     "output_type": "execute_result"
    }
   ],
   "source": [
    "y"
   ]
  },
  {
   "cell_type": "code",
   "execution_count": 261,
   "metadata": {},
   "outputs": [
    {
     "data": {
      "text/plain": [
       "<matplotlib.collections.PathCollection at 0x1a14057518>"
      ]
     },
     "execution_count": 261,
     "metadata": {},
     "output_type": "execute_result"
    }
   ],
   "source": [
    "plt.scatter(x,y)"
   ]
  },
  {
   "cell_type": "code",
   "execution_count": 262,
   "metadata": {},
   "outputs": [
    {
     "data": {
      "image/png": "[encoded data removed]",
      "text/plain": [
       "<matplotlib.figure.Figure at 0x1a1371f550>"
      ]
     },
     "metadata": {},
     "output_type": "display_data"
    }
   ],
   "source": [
    "plt.show()"
   ]
  },
  {
   "cell_type": "code",
   "execution_count": 263,
   "metadata": {},
   "outputs": [
    {
     "data": {
      "text/plain": [
       "Text(0.5,1,'Relationship between random variables X, Y')"
      ]
     },
     "execution_count": 263,
     "metadata": {},
     "output_type": "execute_result"
    }
   ],
   "source": [
    "plt.scatter(x,y,s=50,c='orange',marker='^')\n",
    "plt.title(\"Relationship between random variables X, Y\")"
   ]
  },
  {
   "cell_type": "code",
   "execution_count": 264,
   "metadata": {},
   "outputs": [
    {
     "data": {
      "text/plain": [
       "(0, 2)"
      ]
     },
     "execution_count": 264,
     "metadata": {},
     "output_type": "execute_result"
    }
   ],
   "source": [
    "plt.xlabel('X')\n",
    "plt.ylabel('Y')\n",
    "plt.xlim(0,2)\n",
    "plt.ylim(0,2)"
   ]
  },
  {
   "cell_type": "code",
   "execution_count": 265,
   "metadata": {},
   "outputs": [
    {
     "data": {
      "image/png": "[encoded data removed]",
      "text/plain": [
       "<matplotlib.figure.Figure at 0x1a140413c8>"
      ]
     },
     "metadata": {},
     "output_type": "display_data"
    }
   ],
   "source": [
    "plt.show()"
   ]
  },
  {
   "cell_type": "markdown",
   "metadata": {},
   "source": [
    "# Regression fit"
   ]
  },
  {
   "cell_type": "code",
   "execution_count": 266,
   "metadata": {},
   "outputs": [],
   "source": [
    "slope, intercept, r_value, p_value, std_err = scipy.stats.linregress(x,y)"
   ]
  },
  {
   "cell_type": "code",
   "execution_count": 267,
   "metadata": {},
   "outputs": [],
   "source": [
    "line = intercept + slope * x"
   ]
  },
  {
   "cell_type": "code",
   "execution_count": 268,
   "metadata": {},
   "outputs": [
    {
     "data": {
      "text/plain": [
       "[<matplotlib.lines.Line2D at 0x1a14151cf8>,\n",
       " <matplotlib.lines.Line2D at 0x1a14151e80>]"
      ]
     },
     "execution_count": 268,
     "metadata": {},
     "output_type": "execute_result"
    }
   ],
   "source": [
    "plt.plot(x,y,'o',x,line)"
   ]
  },
  {
   "cell_type": "code",
   "execution_count": 269,
   "metadata": {},
   "outputs": [
    {
     "data": {
      "text/plain": [
       "Text(0.5,1,'Linear fit using Matplotlib')"
      ]
     },
     "execution_count": 269,
     "metadata": {},
     "output_type": "execute_result"
    }
   ],
   "source": [
    "pylab.title('Linear fit using Matplotlib')"
   ]
  },
  {
   "cell_type": "code",
   "execution_count": 270,
   "metadata": {},
   "outputs": [
    {
     "data": {
      "image/png": "[encoded data removed]",
      "text/plain": [
       "<matplotlib.figure.Figure at 0x1a14081710>"
      ]
     },
     "metadata": {},
     "output_type": "display_data"
    }
   ],
   "source": [
    "plt.show()"
   ]
  },
  {
   "cell_type": "markdown",
   "metadata": {},
   "source": [
    "# Histogram"
   ]
  },
  {
   "cell_type": "code",
   "execution_count": 271,
   "metadata": {},
   "outputs": [],
   "source": [
    "x = np.random.randn(20000)\n",
    "y = (500*x + np.random.randn(20000) + 12)*x"
   ]
  },
  {
   "cell_type": "code",
   "execution_count": 272,
   "metadata": {},
   "outputs": [],
   "source": [
    "graphics, data = plt.subplots(1,2,sharey = True)"
   ]
  },
  {
   "cell_type": "code",
   "execution_count": 273,
   "metadata": {},
   "outputs": [
    {
     "data": {
      "text/plain": [
       "(array([  1.23890000e+04,   3.28300000e+03,   1.70600000e+03,\n",
       "          9.63000000e+02,   5.92000000e+02,   3.87000000e+02,\n",
       "          2.45000000e+02,   1.64000000e+02,   9.80000000e+01,\n",
       "          5.40000000e+01,   4.30000000e+01,   2.50000000e+01,\n",
       "          1.60000000e+01,   9.00000000e+00,   9.00000000e+00,\n",
       "          5.00000000e+00,   3.00000000e+00,   2.00000000e+00,\n",
       "          2.00000000e+00,   2.00000000e+00,   1.00000000e+00,\n",
       "          0.00000000e+00,   0.00000000e+00,   1.00000000e+00,\n",
       "          1.00000000e+00]),\n",
       " array([ -1.17760308e-01,   3.74054074e+02,   7.48225909e+02,\n",
       "          1.12239774e+03,   1.49656958e+03,   1.87074141e+03,\n",
       "          2.24491325e+03,   2.61908508e+03,   2.99325692e+03,\n",
       "          3.36742875e+03,   3.74160058e+03,   4.11577242e+03,\n",
       "          4.48994425e+03,   4.86411609e+03,   5.23828792e+03,\n",
       "          5.61245976e+03,   5.98663159e+03,   6.36080343e+03,\n",
       "          6.73497526e+03,   7.10914709e+03,   7.48331893e+03,\n",
       "          7.85749076e+03,   8.23166260e+03,   8.60583443e+03,\n",
       "          8.98000627e+03,   9.35417810e+03]),\n",
       " <a list of 25 Patch objects>)"
      ]
     },
     "execution_count": 273,
     "metadata": {},
     "output_type": "execute_result"
    }
   ],
   "source": [
    "data[0].hist(x, bins = 10)\n",
    "data[1].hist(y,bins =25)"
   ]
  },
  {
   "cell_type": "code",
   "execution_count": 274,
   "metadata": {},
   "outputs": [
    {
     "data": {
      "image/png": "[encoded data removed]",
      "text/plain": [
       "<matplotlib.figure.Figure at 0x1a14131898>"
      ]
     },
     "metadata": {},
     "output_type": "display_data"
    }
   ],
   "source": [
    "plt.show()"
   ]
  },
  {
   "cell_type": "code",
   "execution_count": 277,
   "metadata": {},
   "outputs": [
    {
     "data": {
      "text/plain": [
       "(array([ 24.,  35.,  25.,  22.,  32.,  32.,  50.,  33.,  24.,  17.,  11.,\n",
       "         14.,  15.,  11.,  15.,   6.,   5.,  10.,   6.,   6.,   8.,  10.,\n",
       "          5.,   4.,   4.,   2.,   6.,  10.,   5.,   6.,   5.,   3.,  12.,\n",
       "         10.,  10.,   9.,   5.,   5.,   7.,   4.,   5.,   8.,   5.,   7.,\n",
       "          6.,   6.,  10.,  11.,   7.,   1.,   7.,   7.,   4.,   4.,  10.,\n",
       "          4.,   7.,   4.,  11.,   6.,   7.,   5.,   6.,   7.,   7.,   7.,\n",
       "          7.,   5.,   5.,   5.,   7.,   9.,  13.,  13.,   6.,   5.,   6.,\n",
       "          7.,   7.,   9.,   6.,   5.,   9.,   8.,  13.,   3.,   8.,   5.,\n",
       "          6.,   4.,   6.,   3.,   5.,   8.,   8.,   2.,   5.,   1.,   1.,\n",
       "          5.,   8.,   4.,   5.,   6.,  10.,   4.,   4.,   8.,   6.,   5.,\n",
       "          9.,   7.,  10.,   5.,   9.,   6.,  11.,   9.,   4.,   2.,   2.,\n",
       "          8.,   8.,   3.,   9.,  11.,   3.,  10.,   4.,   9.,   8.,   5.,\n",
       "          3.,   4.,   7.,   5.,   7.,   7.,   8.,   7.,   6.,   7.,   9.,\n",
       "          4.,   6.,   9.,   7.,   9.,   5.,   4.,   0.,   9.,  13.,   7.,\n",
       "          6.,  11.,   4.,   5.,   5.,   7.,   4.,   7.,   7.,  15.,   9.,\n",
       "          7.,  10.,   6.,   9.,   9.,   9.,   9.,   8.,   9.,   5.,   7.,\n",
       "          9.,   8.,   5.,  10.,   5.,  10.,   8.,   7.,   3.,   7.,  13.,\n",
       "         11.,   8.,   8.,   9.,   7.,  10.,   8.,   7.,  11.,   6.,  14.,\n",
       "          7.,   6.,   9.,   6.,  11.,   9.,   5.,  11.,   8.,   5.,  10.,\n",
       "          6.,  13.,  11.,   9.,   8.,  16.,   5.,   6.,  10.,   4.,   8.,\n",
       "         12.,  10.,   4.,   9.,  13.,  12.,  11.,   8.,   8.,   7.,  10.,\n",
       "         10.,   9.,  12.,   7.,  11.,   9.,   8.,  16.,  12.,   6.,   8.,\n",
       "         12.,  15.,   8.,   9.,   9.,  10.,   9.,  13.,   8.,   8.,   9.,\n",
       "         17.,  11.,  13.,  10.,   9.,  11.,   9.,  14.,   7.,  14.,  15.,\n",
       "         12.,  14.,  14.,  12.,   8.,  14.,  13.,  13.,  18.,  16.,  11.,\n",
       "         10.,  10.,  16.,  17.,  12.,  13.,  16.,  12.,  11.,  10.,  13.,\n",
       "         18.,  16.,  16.,  12.,  10.,  12.,  14.,  11.,   7.,  19.,   8.,\n",
       "         17.,  18.,   9.,  13.,  14.,  16.,   8.,  16.,  17.,  10.,  11.,\n",
       "         13.,  20.,  15.,  13.,  16.,  17.,  13.,  16.,   7.,  16.,   9.,\n",
       "         15.,  16.,  13.,  15.,  21.,  12.,  16.,  15.,  11.,  23.,  18.,\n",
       "         14.,  15.,  14.,  17.,  17.,  10.,  14.,  17.,   9.,  14.,  15.,\n",
       "         14.,  21.,  16.,  15.,  20.,  13.,  13.,  10.,  16.,  17.,  15.,\n",
       "         12.,  15.,  21.,  15.,  15.,  16.,  14.,  18.,  23.,  15.,  20.,\n",
       "         11.,  12.,  25.,  18.,  22.,  13.,  24.,  17.,  27.,  18.,  14.,\n",
       "         21.,  14.,  21.,  20.,  13.,  10.,  19.,  13.,  18.,  14.,  18.,\n",
       "         15.,  16.,  15.,  26.,  20.,  15.,  18.,  20.,  10.,  17.,  17.,\n",
       "         19.,  22.,  21.,  20.,  25.,  24.,  20.,  23.,  18.,  21.,  19.,\n",
       "         15.,  16.,  17.,  24.,  18.,  20.,  24.,  27.,  18.,  28.,  20.,\n",
       "          8.,  20.,  19.,  28.,  20.,  22.,  32.,  26.,  17.,  24.,  23.,\n",
       "         23.,  20.,  20.,  31.,  18.,  25.,  18.,  18.,  28.,  25.,  28.,\n",
       "         22.,  30.,  19.,  37.,  30.,  31.,  19.,  21.,  19.,  29.,  29.,\n",
       "         19.,  31.,  17.,  25.,  22.,  29.,  27.,  28.,  27.,  29.,  28.,\n",
       "         23.,  25.,  34.,  32.,  28.,  21.,  30.,  18.,  29.,  27.,  29.,\n",
       "         26.,  31.,  22.,  29.,  22.,  33.,  29.,  24.,  35.,  24.,  29.,\n",
       "         38.,  21.,  24.,  27.,  33.,  36.,  32.,  23.,  31.,  27.,  21.,\n",
       "         29.,  19.,  28.,  26.,  26.,  23.,  37.,  21.,  27.,  34.,  25.,\n",
       "         25.,  32.,  29.,  25.,  33.,  29.,  26.,  35.,  39.,  24.,  35.,\n",
       "         27.,  36.,  38.,  25.,  32.,  24.,  32.,  29.,  37.,  32.,  33.,\n",
       "         30.,  26.,  30.,  32.,  29.,  40.,  36.,  39.,  38.,  16.,  37.,\n",
       "         38.,  28.,  24.,  36.,  50.,  34.,  40.,  29.,  40.,  38.,  38.,\n",
       "         34.,  35.,  36.,  28.,  29.,  32.,  37.,  29.,  43.,  31.,  35.,\n",
       "         29.,  45.,  41.,  32.,  32.,  40.,  40.,  31.,  39.,  39.,  35.,\n",
       "         39.,  30.,  37.,  45.,  30.,  51.,  37.,  40.,  34.,  33.,  48.,\n",
       "         40.,  29.,  35.,  36.,  35.,  42.,  32.,  36.,  50.,  37.,  43.,\n",
       "         36.,  34.,  35.,  38.,  26.,  44.,  37.,  34.,  43.,  39.,  39.,\n",
       "         37.,  62.,  30.,  43.,  42.,  46.,  46.,  51.,  39.,  43.,  42.,\n",
       "         50.,  33.,  50.,  40.,  44.,  43.,  53.,  59.,  58.,  48.,  41.,\n",
       "         50.,  50.,  51.,  51.,  55.,  35.,  52.,  53.,  41.,  43.,  51.,\n",
       "         38.,  38.,  47.,  45.,  45.,  47.,  50.,  46.,  49.,  41.,  31.,\n",
       "         35.,  52.,  49.,  48.,  39.,  46.,  43.,  46.,  45.,  32.,  45.,\n",
       "         55.,  46.,  49.,  43.,  41.,  25.,  54.,  38.,  36.,  45.,  42.,\n",
       "         41.,  38.,  43.,  44.,  42.,  57.,  56.,  52.,  43.,  37.,  46.,\n",
       "         49.,  33.,  46.,  47.,  47.,  50.,  44.,  32.,  45.,  37.,  40.,\n",
       "         45.,  47.,  55.,  41.,  39.,  42.,  43.,  39.,  37.,  41.,  40.,\n",
       "         49.,  41.,  43.,  48.,  43.,  47.,  50.,  36.,  47.,  44.,  44.,\n",
       "         36.,  39.,  40.,  39.,  39.,  45.,  40.,  51.,  50.,  34.,  42.,\n",
       "         56.,  38.,  45.,  33.,  47.,  48.,  49.,  31.,  44.,  31.,  42.,\n",
       "         46.,  40.,  45.,  47.,  39.,  36.,  38.,  28.,  40.,  36.,  41.,\n",
       "         34.,  30.,  35.,  40.,  43.,  52.,  32.,  40.,  37.,  30.,  32.,\n",
       "         50.,  32.,  30.,  33.,  30.,  28.,  37.,  34.,  39.,  37.,  25.,\n",
       "         38.,  37.,  43.,  32.,  23.,  34.,  27.,  28.,  28.,  27.,  36.,\n",
       "         25.,  34.,  31.,  33.,  33.,  40.,  18.,  35.,  37.,  30.,  20.,\n",
       "         25.,  34.,  34.,  25.,  35.,  32.,  19.,  32.,  22.,  27.,  22.,\n",
       "         30.,  26.,  28.,  26.,  24.,  20.,  23.,  29.,  27.,  29.,  19.,\n",
       "         21.,  18.,  26.,  32.,  19.,  27.,  23.,  19.,  21.,  19.,  22.,\n",
       "         32.,  17.,  23.,  16.,  26.,  22.,  17.,  18.,  17.,  13.,  18.,\n",
       "         19.,  17.,  20.,  23.,  18.,  20.,  11.,  19.,  15.,  22.,  13.,\n",
       "         17.,  12.,  15.,  11.,  22.,   9.,  16.,  16.,   8.,  17.,  10.,\n",
       "         14.,  11.,  15.,   8.,  28.,  14.,  11.,   3.,   8.,  11.,  15.,\n",
       "         11.,  12.,   7.,  11.,  12.,   8.,  16.,  12.,   4.,   5.,  10.,\n",
       "          9.,   6.,   9.,   6.,   7.,   5.,   8.,   3.,   6.,   3.,   3.,\n",
       "          2.,   5.,   7.,   9.,   4.,   4.,   6.,   4.,   3.,   4.,   4.,\n",
       "          5.,   4.,   5.,   5.,   5.,   1.,   0.,   8.,   8.,   1.,   0.,\n",
       "          4.,   1.,   3.,   5.,   3.,   0.,   1.,   4.,   2.,   3.,   3.,\n",
       "          3.,   0.,   1.,   0.,   0.,   1.,   2.,   3.,   1.,   1.,   0.,\n",
       "          1.,   0.,   2.,   2.,   0.,   1.,   1.,   1.,   2.,   1.,   2.,\n",
       "          0.,   0.,   0.,   2.,   0.,   0.,   0.,   1.,   1.,   1.,   0.,\n",
       "          1.,   1.,   0.,   0.,   0.,   0.,   0.,   0.,   1.,   1.,   0.,\n",
       "          0.,   0.,   0.,   1.,   0.,   0.,   1.,   0.,   1.,   0.,   0.,\n",
       "          0.,   0.,   0.,   0.,   0.,   0.,   0.,   0.,   0.,   0.,   0.,\n",
       "          0.,   0.,   1.,   0.,   0.,   0.,   0.,   0.,   0.,   1.]),\n",
       " array([  6.83193565e-04,   1.38756549e-02,   2.70681163e-02, ...,\n",
       "          1.31667596e+01,   1.31799521e+01,   1.31931446e+01]),\n",
       " <a list of 1000 Patch objects>)"
      ]
     },
     "execution_count": 277,
     "metadata": {},
     "output_type": "execute_result"
    }
   ],
   "source": [
    "# Transformed data\n",
    "y = (500*x + np.random.randn(20000) + 12)*x\n",
    "plt.hist(scipy.log2(np.abs(y)+1),bins = 1000)"
   ]
  },
  {
   "cell_type": "code",
   "execution_count": 278,
   "metadata": {},
   "outputs": [
    {
     "data": {
      "image/png": "[encoded data removed]",
      "text/plain": [
       "<matplotlib.figure.Figure at 0x1a141f19e8>"
      ]
     },
     "metadata": {},
     "output_type": "display_data"
    }
   ],
   "source": [
    "plt.show()"
   ]
  },
  {
   "cell_type": "code",
   "execution_count": null,
   "metadata": {},
   "outputs": [],
   "source": []
  }
 ],
 "metadata": {
  "kernelspec": {
   "display_name": "Python 3",
   "language": "python",
   "name": "python3"
  },
  "language_info": {
   "codemirror_mode": {
    "name": "ipython",
    "version": 3
   },
   "file_extension": ".py",
   "mimetype": "text/x-python",
   "name": "python",
   "nbconvert_exporter": "python",
   "pygments_lexer": "ipython3",
   "version": "3.6.3"
  }
 },
 "nbformat": 4,
 "nbformat_minor": 2
}
